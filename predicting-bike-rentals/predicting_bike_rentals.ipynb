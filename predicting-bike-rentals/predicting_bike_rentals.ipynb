{
  "nbformat": 4,
  "nbformat_minor": 0,
  "metadata": {
    "colab": {
      "name": "predicting_bike_rentals.ipynb",
      "provenance": [],
      "authorship_tag": "ABX9TyNVviHhvTFt6/OaPTUDo64Q",
      "include_colab_link": true
    },
    "kernelspec": {
      "name": "python3",
      "display_name": "Python 3"
    }
  },
  "cells": [
    {
      "cell_type": "markdown",
      "metadata": {
        "id": "view-in-github",
        "colab_type": "text"
      },
      "source": [
        "<a href=\"https://colab.research.google.com/github/tlcuzick/data-science-projects/blob/main/predicting-bike-rentals/predicting_bike_rentals.ipynb\" target=\"_parent\"><img src=\"https://colab.research.google.com/assets/colab-badge.svg\" alt=\"Open In Colab\"/></a>"
      ]
    },
    {
      "cell_type": "code",
      "metadata": {
        "id": "OeJs5t4-HeJZ"
      },
      "source": [
        "import pandas as pd\r\n",
        "import numpy as np\r\n",
        "import matplotlib.pyplot as plt\r\n",
        "\r\n",
        "from sklearn.linear_model import LinearRegression\r\n",
        "from sklearn.metrics import mean_squared_error\r\n",
        "from sklearn.tree import DecisionTreeRegressor\r\n",
        "from sklearn.ensemble import RandomForestRegressor\r\n",
        "\r\n",
        "%matplotlib inline"
      ],
      "execution_count": 1,
      "outputs": []
    },
    {
      "cell_type": "code",
      "metadata": {
        "id": "wq4mghaOIAN0"
      },
      "source": [
        "bike_rentals = pd.read_csv('bike_rental_hour.csv')"
      ],
      "execution_count": 2,
      "outputs": []
    },
    {
      "cell_type": "code",
      "metadata": {
        "colab": {
          "base_uri": "https://localhost:8080/",
          "height": 265
        },
        "id": "dWcjm01GIEhB",
        "outputId": "e52e81fd-1338-4a26-82db-5f9e28b810a1"
      },
      "source": [
        "plt.hist(bike_rentals['cnt'])\r\n",
        "plt.show()"
      ],
      "execution_count": 3,
      "outputs": [
        {
          "output_type": "display_data",
          "data": {
            "image/png": "[encoded data removed]",
            "text/plain": [
              "<Figure size 432x288 with 1 Axes>"
            ]
          },
          "metadata": {
            "tags": [],
            "needs_background": "light"
          }
        }
      ]
    },
    {
      "cell_type": "code",
      "metadata": {
        "colab": {
          "base_uri": "https://localhost:8080/"
        },
        "id": "jZ08vA5gIQkE",
        "outputId": "95331a8e-0070-4c3d-8042-c669b99fc505"
      },
      "source": [
        "cnt_corr = bike_rentals.corr()['cnt']\r\n",
        "print(cnt_corr)"
      ],
      "execution_count": 4,
      "outputs": [
        {
          "output_type": "stream",
          "text": [
            "instant       0.278379\n",
            "season        0.178056\n",
            "yr            0.250495\n",
            "mnth          0.120638\n",
            "hr            0.394071\n",
            "holiday      -0.030927\n",
            "weekday       0.026900\n",
            "workingday    0.030284\n",
            "weathersit   -0.142426\n",
            "temp          0.404772\n",
            "atemp         0.400929\n",
            "hum          -0.322911\n",
            "windspeed     0.093234\n",
            "casual        0.694564\n",
            "registered    0.972151\n",
            "cnt           1.000000\n",
            "Name: cnt, dtype: float64\n"
          ],
          "name": "stdout"
        }
      ]
    },
    {
      "cell_type": "code",
      "metadata": {
        "id": "tTw8hFF8ITKw"
      },
      "source": [
        "def assign_label(hour):\r\n",
        "    if hour < 0:\r\n",
        "        return 0\r\n",
        "    elif hour <= 6:\r\n",
        "        return 4\r\n",
        "    elif hour <= 12:\r\n",
        "        return 1\r\n",
        "    elif hour <= 18:\r\n",
        "        return 2\r\n",
        "    elif hour <= 24:\r\n",
        "        return 3"
      ],
      "execution_count": 5,
      "outputs": []
    },
    {
      "cell_type": "markdown",
      "metadata": {
        "id": "p0Do5KLWIchR"
      },
      "source": [
        "# **Error Metric**\r\n",
        "\r\n",
        "I am tentatively using RMSE as the error metric for this project, since the data I am predicting is numeric and continuous."
      ]
    },
    {
      "cell_type": "code",
      "metadata": {
        "id": "igQmf02vIf-W"
      },
      "source": [
        "time_label = bike_rentals['hr'].apply(assign_label)\r\n",
        "bike_rentals['time_label'] = time_label"
      ],
      "execution_count": 6,
      "outputs": []
    },
    {
      "cell_type": "code",
      "metadata": {
        "id": "UTkQld9PIn1B"
      },
      "source": [
        "train = bike_rentals.sample(frac=0.8)\r\n",
        "test = bike_rentals.loc[~bike_rentals.index.isin(train.index)]"
      ],
      "execution_count": 7,
      "outputs": []
    },
    {
      "cell_type": "code",
      "metadata": {
        "id": "EYtboo2sIuRa"
      },
      "source": [
        "excluded = ['cnt', 'casual', 'dteday', 'registered']\r\n",
        "features = [x for x in bike_rentals.columns if not x in excluded]"
      ],
      "execution_count": 8,
      "outputs": []
    },
    {
      "cell_type": "code",
      "metadata": {
        "id": "xZXRumOWIxmf"
      },
      "source": [
        "lr = LinearRegression()\r\n",
        "lr.fit(train[features], train['cnt'])\r\n",
        "predictions = lr.predict(test[features])"
      ],
      "execution_count": 9,
      "outputs": []
    },
    {
      "cell_type": "code",
      "metadata": {
        "colab": {
          "base_uri": "https://localhost:8080/"
        },
        "id": "EqOQ9W1LI0xT",
        "outputId": "ab4e8c97-d6af-4065-c821-d8b92908351f"
      },
      "source": [
        "mse = mean_squared_error(test['cnt'], predictions)\r\n",
        "rmse = mse ** (1/2)\r\n",
        "print('RMSE - linear regression model: {}'.format(rmse))"
      ],
      "execution_count": 10,
      "outputs": [
        {
          "output_type": "stream",
          "text": [
            "RMSE - linear regression model: 131.85271956495885\n"
          ],
          "name": "stdout"
        }
      ]
    },
    {
      "cell_type": "markdown",
      "metadata": {
        "id": "7S0iZiojJE9K"
      },
      "source": [
        "# **Linear Regression Error**\r\n",
        "\r\n",
        "The RMSE for the Linear Regression model is comparatively high at 131.9. This may be due to a small number of extremely high rental counts, which would have a disproportionate impact on the error meric."
      ]
    },
    {
      "cell_type": "code",
      "metadata": {
        "id": "JOmyayBuJI9w"
      },
      "source": [
        "dt = DecisionTreeRegressor(min_samples_leaf = 7) #\r\n",
        "dt.fit(train[features], train['cnt'])\r\n",
        "predictions = dt.predict(test[features])"
      ],
      "execution_count": 11,
      "outputs": []
    },
    {
      "cell_type": "code",
      "metadata": {
        "colab": {
          "base_uri": "https://localhost:8080/"
        },
        "id": "zZGsbTIEJMpU",
        "outputId": "66292f7e-6671-4b07-d779-8a821b91580a"
      },
      "source": [
        "mse = mean_squared_error(test['cnt'], predictions)\r\n",
        "rmse = mse ** (1/2)\r\n",
        "print('RMSE - decision tree: {}'.format(rmse))"
      ],
      "execution_count": 12,
      "outputs": [
        {
          "output_type": "stream",
          "text": [
            "RMSE - decision tree: 50.938389699453346\n"
          ],
          "name": "stdout"
        }
      ]
    },
    {
      "cell_type": "markdown",
      "metadata": {
        "id": "YzmrevsLJTTs"
      },
      "source": [
        "# **Decision Tree Error**\r\n",
        "\r\n",
        "The Decision Tree model, with a RMSE of 50.94, may have performed so much better than linear regression because of its ability to exploit nonlinear features."
      ]
    },
    {
      "cell_type": "code",
      "metadata": {
        "id": "zP6i_HkOJbW_"
      },
      "source": [
        "rf = RandomForestRegressor(n_estimators=100) #n_estimators=100\r\n",
        "rf.fit(train[features], train['cnt'])\r\n",
        "predictions = rf.predict(test[features])"
      ],
      "execution_count": 13,
      "outputs": []
    },
    {
      "cell_type": "code",
      "metadata": {
        "colab": {
          "base_uri": "https://localhost:8080/"
        },
        "id": "71ZAE6tzJk48",
        "outputId": "42090adb-a3f2-4d91-8e7c-108910d35210"
      },
      "source": [
        "mse = mean_squared_error(test['cnt'], predictions)\r\n",
        "rmse = mse ** (1/2)\r\n",
        "print('RMSE - random forest: {}'.format(rmse))"
      ],
      "execution_count": 14,
      "outputs": [
        {
          "output_type": "stream",
          "text": [
            "RMSE - random forest: 39.40356138142466\n"
          ],
          "name": "stdout"
        }
      ]
    },
    {
      "cell_type": "markdown",
      "metadata": {
        "id": "gEDpaP9YJpCO"
      },
      "source": [
        "# **Random Forest Error**\r\n",
        "\r\n",
        "The Random Forest model perforrmed even better than the decision tree, with a RMSE of 39.4. This may be due to reduced overfitting, a benefit of random forests relative to their simpler cousin."
      ]
    }
  ]
}
