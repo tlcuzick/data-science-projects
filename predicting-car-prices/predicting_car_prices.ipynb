{
  "nbformat": 4,
  "nbformat_minor": 0,
  "metadata": {
    "colab": {
      "name": "predicting_car_prices.ipynb",
      "provenance": [],
      "authorship_tag": "ABX9TyOia3SUgVqm3H5NxnYdivhD",
      "include_colab_link": true
    },
    "kernelspec": {
      "name": "python3",
      "display_name": "Python 3"
    }
  },
  "cells": [
    {
      "cell_type": "markdown",
      "metadata": {
        "id": "view-in-github",
        "colab_type": "text"
      },
      "source": [
        "<a href=\"https://colab.research.google.com/github/tlcuzick/data-science-projects/blob/main/predicting-car-prices/predicting_car_prices.ipynb\" target=\"_parent\"><img src=\"https://colab.research.google.com/assets/colab-badge.svg\" alt=\"Open In Colab\"/></a>"
      ]
    },
    {
      "cell_type": "code",
      "metadata": {
        "id": "2_okPLndPxxW"
      },
      "source": [
        "import math\r\n",
        "\r\n",
        "import pandas as pd\r\n",
        "import numpy as np\r\n",
        "pd.options.mode.chained_assignment = None\r\n",
        "\r\n",
        "import matplotlib.pyplot as plt\r\n",
        "%matplotlib inline\r\n",
        "\r\n",
        "from sklearn.neighbors import KNeighborsRegressor\r\n",
        "from sklearn.metrics import mean_squared_error"
      ],
      "execution_count": 1,
      "outputs": []
    },
    {
      "cell_type": "code",
      "metadata": {
        "colab": {
          "base_uri": "https://localhost:8080/",
          "height": 165
        },
        "id": "JIakIWLtQBrF",
        "outputId": "ed965146-b21b-4cf6-8f53-fe32e3ae7745"
      },
      "source": [
        "headers = [\r\n",
        "    'symboling',\r\n",
        "    'normalized_losses',\r\n",
        "    'make',\r\n",
        "    'fuel_type',\r\n",
        "    'aspiration',\r\n",
        "    'num_doors',\r\n",
        "    'body_style',\r\n",
        "    'drive_wheels',\r\n",
        "    'engine_location',\r\n",
        "    'wheel_base',\r\n",
        "    'length',\r\n",
        "    'width',\r\n",
        "    'height',\r\n",
        "    'curb_weight',\r\n",
        "    'engine_type',\r\n",
        "    'num_cylinders',\r\n",
        "    'engine_size',\r\n",
        "    'fuel_system',\r\n",
        "    'bore',\r\n",
        "    'stroke',\r\n",
        "    'compression_ratio',\r\n",
        "    'horsepower',\r\n",
        "    'peak_rpm',\r\n",
        "    'city_mpg',\r\n",
        "    'highway_mpg',\r\n",
        "    'price'\r\n",
        "]\r\n",
        "\r\n",
        "cars = pd.read_csv('imports-85.data', header=None, names=headers)\r\n",
        "cars.head(2)"
      ],
      "execution_count": 2,
      "outputs": [
        {
          "output_type": "execute_result",
          "data": {
            "text/html": [
              "<div>\n",
              "<style scoped>\n",
              "    .dataframe tbody tr th:only-of-type {\n",
              "        vertical-align: middle;\n",
              "    }\n",
              "\n",
              "    .dataframe tbody tr th {\n",
              "        vertical-align: top;\n",
              "    }\n",
              "\n",
              "    .dataframe thead th {\n",
              "        text-align: right;\n",
              "    }\n",
              "</style>\n",
              "<table border=\"1\" class=\"dataframe\">\n",
              "  <thead>\n",
              "    <tr style=\"text-align: right;\">\n",
              "      <th></th>\n",
              "      <th>symboling</th>\n",
              "      <th>normalized_losses</th>\n",
              "      <th>make</th>\n",
              "      <th>fuel_type</th>\n",
              "      <th>aspiration</th>\n",
              "      <th>num_doors</th>\n",
              "      <th>body_style</th>\n",
              "      <th>drive_wheels</th>\n",
              "      <th>engine_location</th>\n",
              "      <th>wheel_base</th>\n",
              "      <th>length</th>\n",
              "      <th>width</th>\n",
              "      <th>height</th>\n",
              "      <th>curb_weight</th>\n",
              "      <th>engine_type</th>\n",
              "      <th>num_cylinders</th>\n",
              "      <th>engine_size</th>\n",
              "      <th>fuel_system</th>\n",
              "      <th>bore</th>\n",
              "      <th>stroke</th>\n",
              "      <th>compression_ratio</th>\n",
              "      <th>horsepower</th>\n",
              "      <th>peak_rpm</th>\n",
              "      <th>city_mpg</th>\n",
              "      <th>highway_mpg</th>\n",
              "      <th>price</th>\n",
              "    </tr>\n",
              "  </thead>\n",
              "  <tbody>\n",
              "    <tr>\n",
              "      <th>0</th>\n",
              "      <td>3</td>\n",
              "      <td>?</td>\n",
              "      <td>alfa-romero</td>\n",
              "      <td>gas</td>\n",
              "      <td>std</td>\n",
              "      <td>two</td>\n",
              "      <td>convertible</td>\n",
              "      <td>rwd</td>\n",
              "      <td>front</td>\n",
              "      <td>88.6</td>\n",
              "      <td>168.8</td>\n",
              "      <td>64.1</td>\n",
              "      <td>48.8</td>\n",
              "      <td>2548</td>\n",
              "      <td>dohc</td>\n",
              "      <td>four</td>\n",
              "      <td>130</td>\n",
              "      <td>mpfi</td>\n",
              "      <td>3.47</td>\n",
              "      <td>2.68</td>\n",
              "      <td>9.0</td>\n",
              "      <td>111</td>\n",
              "      <td>5000</td>\n",
              "      <td>21</td>\n",
              "      <td>27</td>\n",
              "      <td>13495</td>\n",
              "    </tr>\n",
              "    <tr>\n",
              "      <th>1</th>\n",
              "      <td>3</td>\n",
              "      <td>?</td>\n",
              "      <td>alfa-romero</td>\n",
              "      <td>gas</td>\n",
              "      <td>std</td>\n",
              "      <td>two</td>\n",
              "      <td>convertible</td>\n",
              "      <td>rwd</td>\n",
              "      <td>front</td>\n",
              "      <td>88.6</td>\n",
              "      <td>168.8</td>\n",
              "      <td>64.1</td>\n",
              "      <td>48.8</td>\n",
              "      <td>2548</td>\n",
              "      <td>dohc</td>\n",
              "      <td>four</td>\n",
              "      <td>130</td>\n",
              "      <td>mpfi</td>\n",
              "      <td>3.47</td>\n",
              "      <td>2.68</td>\n",
              "      <td>9.0</td>\n",
              "      <td>111</td>\n",
              "      <td>5000</td>\n",
              "      <td>21</td>\n",
              "      <td>27</td>\n",
              "      <td>16500</td>\n",
              "    </tr>\n",
              "  </tbody>\n",
              "</table>\n",
              "</div>"
            ],
            "text/plain": [
              "   symboling normalized_losses         make  ... city_mpg highway_mpg  price\n",
              "0          3                 ?  alfa-romero  ...       21          27  13495\n",
              "1          3                 ?  alfa-romero  ...       21          27  16500\n",
              "\n",
              "[2 rows x 26 columns]"
            ]
          },
          "metadata": {
            "tags": []
          },
          "execution_count": 2
        }
      ]
    },
    {
      "cell_type": "markdown",
      "metadata": {
        "id": "cEhoze5RQTjy"
      },
      "source": [
        "# **Data Cleaning**\r\n",
        "\r\n",
        "*   Select columns with continuous, numeric values\r\n",
        "*   Fill in missing values with the mean from the parent column\r\n",
        "*   Normalize feature columns to a 0 to 1 range\r\n",
        "\r\n"
      ]
    },
    {
      "cell_type": "code",
      "metadata": {
        "id": "lmF8nwnKQmtL"
      },
      "source": [
        "cars.replace('?', np.nan)\r\n",
        "\r\n",
        "cols_to_keep = [\r\n",
        "    'normalized_losses',\r\n",
        "    'wheel_base',\r\n",
        "    'length',\r\n",
        "    'width',\r\n",
        "    'height',\r\n",
        "    'curb_weight',\r\n",
        "    'engine_size',\r\n",
        "    'bore',\r\n",
        "    'stroke',\r\n",
        "    'compression_ratio',\r\n",
        "    'horsepower',\r\n",
        "    'peak_rpm',\r\n",
        "    'city_mpg',\r\n",
        "    'highway_mpg',\r\n",
        "    'price'\r\n",
        "]\r\n",
        "\r\n",
        "cars = cars[cols_to_keep]"
      ],
      "execution_count": 3,
      "outputs": []
    },
    {
      "cell_type": "code",
      "metadata": {
        "id": "u67E9-DYQscw"
      },
      "source": [
        "for c in cols_to_keep:\r\n",
        "    cars[c] = pd.to_numeric(cars[c], errors='coerce')\r\n",
        "    \r\n",
        "    avg = cars[c].mean()\r\n",
        "    max_val = cars[c].max()\r\n",
        "    \r\n",
        "    cars[c] = cars[c].fillna(avg)\r\n",
        "    cars[c] = cars[c] / max_val"
      ],
      "execution_count": 4,
      "outputs": []
    },
    {
      "cell_type": "code",
      "metadata": {
        "colab": {
          "base_uri": "https://localhost:8080/",
          "height": 131
        },
        "id": "7aaRkDliQwh2",
        "outputId": "7c038b5d-884d-491d-e102-14c1068da714"
      },
      "source": [
        "shuffled_rows = np.random.permutation(cars.shape[0])\r\n",
        "cars = cars.iloc[shuffled_rows]\r\n",
        "\r\n",
        "cars.head(2)"
      ],
      "execution_count": 5,
      "outputs": [
        {
          "output_type": "execute_result",
          "data": {
            "text/html": [
              "<div>\n",
              "<style scoped>\n",
              "    .dataframe tbody tr th:only-of-type {\n",
              "        vertical-align: middle;\n",
              "    }\n",
              "\n",
              "    .dataframe tbody tr th {\n",
              "        vertical-align: top;\n",
              "    }\n",
              "\n",
              "    .dataframe thead th {\n",
              "        text-align: right;\n",
              "    }\n",
              "</style>\n",
              "<table border=\"1\" class=\"dataframe\">\n",
              "  <thead>\n",
              "    <tr style=\"text-align: right;\">\n",
              "      <th></th>\n",
              "      <th>normalized_losses</th>\n",
              "      <th>wheel_base</th>\n",
              "      <th>length</th>\n",
              "      <th>width</th>\n",
              "      <th>height</th>\n",
              "      <th>curb_weight</th>\n",
              "      <th>engine_size</th>\n",
              "      <th>bore</th>\n",
              "      <th>stroke</th>\n",
              "      <th>compression_ratio</th>\n",
              "      <th>horsepower</th>\n",
              "      <th>peak_rpm</th>\n",
              "      <th>city_mpg</th>\n",
              "      <th>highway_mpg</th>\n",
              "      <th>price</th>\n",
              "    </tr>\n",
              "  </thead>\n",
              "  <tbody>\n",
              "    <tr>\n",
              "      <th>135</th>\n",
              "      <td>0.406250</td>\n",
              "      <td>0.819686</td>\n",
              "      <td>0.896684</td>\n",
              "      <td>0.919779</td>\n",
              "      <td>0.938127</td>\n",
              "      <td>0.678308</td>\n",
              "      <td>0.371166</td>\n",
              "      <td>0.898477</td>\n",
              "      <td>0.736211</td>\n",
              "      <td>0.404348</td>\n",
              "      <td>0.381944</td>\n",
              "      <td>0.795455</td>\n",
              "      <td>0.428571</td>\n",
              "      <td>0.518519</td>\n",
              "      <td>0.341630</td>\n",
              "    </tr>\n",
              "    <tr>\n",
              "      <th>180</th>\n",
              "      <td>0.351562</td>\n",
              "      <td>0.864351</td>\n",
              "      <td>0.902451</td>\n",
              "      <td>0.919779</td>\n",
              "      <td>0.904682</td>\n",
              "      <td>0.770044</td>\n",
              "      <td>0.524540</td>\n",
              "      <td>0.829949</td>\n",
              "      <td>0.803357</td>\n",
              "      <td>0.400000</td>\n",
              "      <td>0.541667</td>\n",
              "      <td>0.787879</td>\n",
              "      <td>0.408163</td>\n",
              "      <td>0.444444</td>\n",
              "      <td>0.345595</td>\n",
              "    </tr>\n",
              "  </tbody>\n",
              "</table>\n",
              "</div>"
            ],
            "text/plain": [
              "     normalized_losses  wheel_base    length  ...  city_mpg  highway_mpg     price\n",
              "135           0.406250    0.819686  0.896684  ...  0.428571     0.518519  0.341630\n",
              "180           0.351562    0.864351  0.902451  ...  0.408163     0.444444  0.345595\n",
              "\n",
              "[2 rows x 15 columns]"
            ]
          },
          "metadata": {
            "tags": []
          },
          "execution_count": 5
        }
      ]
    },
    {
      "cell_type": "markdown",
      "metadata": {
        "id": "uhzqu2AkQ3Jh"
      },
      "source": [
        "# **Train and Test KNN Model**\r\n",
        "\r\n",
        "*  Create a function that trains a KNN model and returns the RMSE\r\n",
        "* Create list of RMSE scores by individual feature\r\n",
        "* Train and test the KNN model on combinations of the two, three, four, and five best-performing features\r\n",
        "* Determine an optimal value of k by training and testing the KNN model across a range of k values from 1 to 25"
      ]
    },
    {
      "cell_type": "code",
      "metadata": {
        "id": "-CsgZaRcRASr"
      },
      "source": [
        "def knn_train_test(train_cols, target_col, df, k=5):\r\n",
        "    num_rows = df.shape[0]\r\n",
        "    \r\n",
        "    num_train_rows = math.floor(num_rows * 0.75)\r\n",
        "    train_set = df[:num_train_rows]\r\n",
        "    test_set = df[num_train_rows:]\r\n",
        "    \r\n",
        "    knn = KNeighborsRegressor(n_neighbors=k)\r\n",
        "    knn.fit(train_set[train_cols], train_set[target_col])\r\n",
        "    predictions = knn.predict(test_set[train_cols])\r\n",
        "    \r\n",
        "    mse = mean_squared_error(test_set[target_col], predictions)\r\n",
        "    return mse ** (1/2)"
      ],
      "execution_count": 6,
      "outputs": []
    },
    {
      "cell_type": "code",
      "metadata": {
        "colab": {
          "base_uri": "https://localhost:8080/",
          "height": 1000
        },
        "id": "eagdr92fRFO5",
        "outputId": "1dc9cd1d-ad15-4f04-e0f1-bf93ab8cfbef"
      },
      "source": [
        "prediction_cols = [x for x in cols_to_keep if x != 'price']\r\n",
        "k_values = [1, 3, 5, 7, 9]\r\n",
        "results = []\r\n",
        "\r\n",
        "for c in prediction_cols:\r\n",
        "    rmses = []\r\n",
        "    for v in k_values:\r\n",
        "        rmses.append(knn_train_test([c], 'price', cars, v))\r\n",
        "    results.append((c, np.mean(rmses)))\r\n",
        "    plt.scatter(k_values, rmses)\r\n",
        "    plt.show()\r\n",
        "                   \r\n",
        "results_df = pd.DataFrame(results, columns=['Feature', 'RMSE'])\r\n",
        "results_df.sort_values('RMSE', inplace=True)\r\n",
        "results_df"
      ],
      "execution_count": 7,
      "outputs": [
        {
          "output_type": "display_data",
          "data": {
            "image/png": "[encoded data removed]",
            "text/plain": [
              "<Figure size 432x288 with 1 Axes>"
            ]
          },
          "metadata": {
            "tags": [],
            "needs_background": "light"
          }
        },
        {
          "output_type": "display_data",
          "data": {
            "image/png": "[encoded data removed]",
            "text/plain": [
              "<Figure size 432x288 with 1 Axes>"
            ]
          },
          "metadata": {
            "tags": [],
            "needs_background": "light"
          }
        },
        {
          "output_type": "display_data",
          "data": {
            "image/png": "[encoded data removed]",
            "text/plain": [
              "<Figure size 432x288 with 1 Axes>"
            ]
          },
          "metadata": {
            "tags": [],
            "needs_background": "light"
          }
        },
        {
          "output_type": "display_data",
          "data": {
            "image/png": "[encoded data removed]",
            "text/plain": [
              "<Figure size 432x288 with 1 Axes>"
            ]
          },
          "metadata": {
            "tags": [],
            "needs_background": "light"
          }
        },
        {
          "output_type": "display_data",
          "data": {
            "image/png": "[encoded data removed]",
            "text/plain": [
              "<Figure size 432x288 with 1 Axes>"
            ]
          },
          "metadata": {
            "tags": [],
            "needs_background": "light"
          }
        },
        {
          "output_type": "display_data",
          "data": {
            "image/png": "[encoded data removed]",
            "text/plain": [
              "<Figure size 432x288 with 1 Axes>"
            ]
          },
          "metadata": {
            "tags": [],
            "needs_background": "light"
          }
        },
        {
          "output_type": "display_data",
          "data": {
            "image/png": "[encoded data removed]",
            "text/plain": [
              "<Figure size 432x288 with 1 Axes>"
            ]
          },
          "metadata": {
            "tags": [],
            "needs_background": "light"
          }
        },
        {
          "output_type": "display_data",
          "data": {
            "image/png": "[encoded data removed]",
            "text/plain": [
              "<Figure size 432x288 with 1 Axes>"
            ]
          },
          "metadata": {
            "tags": [],
            "needs_background": "light"
          }
        },
        {
          "output_type": "display_data",
          "data": {
            "image/png": "[encoded data removed]",
            "text/plain": [
              "<Figure size 432x288 with 1 Axes>"
            ]
          },
          "metadata": {
            "tags": [],
            "needs_background": "light"
          }
        },
        {
          "output_type": "display_data",
          "data": {
            "image/png": "[encoded data removed]",
            "text/plain": [
              "<Figure size 432x288 with 1 Axes>"
            ]
          },
          "metadata": {
            "tags": [],
            "needs_background": "light"
          }
        },
        {
          "output_type": "display_data",
          "data": {
            "image/png": "[encoded data removed]",
            "text/plain": [
              "<Figure size 432x288 with 1 Axes>"
            ]
          },
          "metadata": {
            "tags": [],
            "needs_background": "light"
          }
        },
        {
          "output_type": "display_data",
          "data": {
            "image/png": "[encoded data removed]",
            "text/plain": [
              "<Figure size 432x288 with 1 Axes>"
            ]
          },
          "metadata": {
            "tags": [],
            "needs_background": "light"
          }
        },
        {
          "output_type": "display_data",
          "data": {
            "image/png": "[encoded data removed]",
            "text/plain": [
              "<Figure size 432x288 with 1 Axes>"
            ]
          },
          "metadata": {
            "tags": [],
            "needs_background": "light"
          }
        },
        {
          "output_type": "display_data",
          "data": {
            "image/png": "[encoded data removed]",
            "text/plain": [
              "<Figure size 432x288 with 1 Axes>"
            ]
          },
          "metadata": {
            "tags": [],
            "needs_background": "light"
          }
        },
        {
          "output_type": "execute_result",
          "data": {
            "text/html": [
              "<div>\n",
              "<style scoped>\n",
              "    .dataframe tbody tr th:only-of-type {\n",
              "        vertical-align: middle;\n",
              "    }\n",
              "\n",
              "    .dataframe tbody tr th {\n",
              "        vertical-align: top;\n",
              "    }\n",
              "\n",
              "    .dataframe thead th {\n",
              "        text-align: right;\n",
              "    }\n",
              "</style>\n",
              "<table border=\"1\" class=\"dataframe\">\n",
              "  <thead>\n",
              "    <tr style=\"text-align: right;\">\n",
              "      <th></th>\n",
              "      <th>Feature</th>\n",
              "      <th>RMSE</th>\n",
              "    </tr>\n",
              "  </thead>\n",
              "  <tbody>\n",
              "    <tr>\n",
              "      <th>5</th>\n",
              "      <td>curb_weight</td>\n",
              "      <td>0.072517</td>\n",
              "    </tr>\n",
              "    <tr>\n",
              "      <th>6</th>\n",
              "      <td>engine_size</td>\n",
              "      <td>0.075720</td>\n",
              "    </tr>\n",
              "    <tr>\n",
              "      <th>13</th>\n",
              "      <td>highway_mpg</td>\n",
              "      <td>0.084454</td>\n",
              "    </tr>\n",
              "    <tr>\n",
              "      <th>10</th>\n",
              "      <td>horsepower</td>\n",
              "      <td>0.090995</td>\n",
              "    </tr>\n",
              "    <tr>\n",
              "      <th>12</th>\n",
              "      <td>city_mpg</td>\n",
              "      <td>0.095178</td>\n",
              "    </tr>\n",
              "    <tr>\n",
              "      <th>3</th>\n",
              "      <td>width</td>\n",
              "      <td>0.117967</td>\n",
              "    </tr>\n",
              "    <tr>\n",
              "      <th>1</th>\n",
              "      <td>wheel_base</td>\n",
              "      <td>0.119995</td>\n",
              "    </tr>\n",
              "    <tr>\n",
              "      <th>2</th>\n",
              "      <td>length</td>\n",
              "      <td>0.121436</td>\n",
              "    </tr>\n",
              "    <tr>\n",
              "      <th>7</th>\n",
              "      <td>bore</td>\n",
              "      <td>0.131344</td>\n",
              "    </tr>\n",
              "    <tr>\n",
              "      <th>9</th>\n",
              "      <td>compression_ratio</td>\n",
              "      <td>0.135881</td>\n",
              "    </tr>\n",
              "    <tr>\n",
              "      <th>0</th>\n",
              "      <td>normalized_losses</td>\n",
              "      <td>0.145323</td>\n",
              "    </tr>\n",
              "    <tr>\n",
              "      <th>8</th>\n",
              "      <td>stroke</td>\n",
              "      <td>0.155809</td>\n",
              "    </tr>\n",
              "    <tr>\n",
              "      <th>11</th>\n",
              "      <td>peak_rpm</td>\n",
              "      <td>0.169056</td>\n",
              "    </tr>\n",
              "    <tr>\n",
              "      <th>4</th>\n",
              "      <td>height</td>\n",
              "      <td>0.169523</td>\n",
              "    </tr>\n",
              "  </tbody>\n",
              "</table>\n",
              "</div>"
            ],
            "text/plain": [
              "              Feature      RMSE\n",
              "5         curb_weight  0.072517\n",
              "6         engine_size  0.075720\n",
              "13        highway_mpg  0.084454\n",
              "10         horsepower  0.090995\n",
              "12           city_mpg  0.095178\n",
              "3               width  0.117967\n",
              "1          wheel_base  0.119995\n",
              "2              length  0.121436\n",
              "7                bore  0.131344\n",
              "9   compression_ratio  0.135881\n",
              "0   normalized_losses  0.145323\n",
              "8              stroke  0.155809\n",
              "11           peak_rpm  0.169056\n",
              "4              height  0.169523"
            ]
          },
          "metadata": {
            "tags": []
          },
          "execution_count": 7
        }
      ]
    },
    {
      "cell_type": "code",
      "metadata": {
        "colab": {
          "base_uri": "https://localhost:8080/"
        },
        "id": "_qkL2gEFRW46",
        "outputId": "ccff056e-ea7b-4c50-80d1-cf6da28f7799"
      },
      "source": [
        "best_two_features_rmse = knn_train_test(['engine_size', 'curb_weight'], 'price', cars)\r\n",
        "print(\"Best two features RMSE: {}\".format(best_two_features_rmse))\r\n",
        "\r\n",
        "best_three_features_rmse = knn_train_test(['engine_size', 'curb_weight','highway_mpg'], 'price', cars)\r\n",
        "print(\"Best three features RMSE: {}\".format(best_three_features_rmse))\r\n",
        "\r\n",
        "best_four_features_rmse = knn_train_test(['engine_size', 'curb_weight','highway_mpg','horsepower'], 'price', cars)\r\n",
        "print(\"Best four features RMSE: {}\".format(best_four_features_rmse))\r\n",
        "\r\n",
        "best_five_features_rmse = knn_train_test(['engine_size', 'curb_weight','highway_mpg','horsepower','city_mpg'], 'price', cars)\r\n",
        "print(\"Best five features RMSE: {}\".format(best_five_features_rmse))"
      ],
      "execution_count": 11,
      "outputs": [
        {
          "output_type": "stream",
          "text": [
            "Best two features RMSE: 0.0629823775699872\n",
            "Best three features RMSE: 0.06096273827850357\n",
            "Best four features RMSE: 0.07867895710591279\n",
            "Best five features RMSE: 0.07580807573438259\n"
          ],
          "name": "stdout"
        }
      ]
    },
    {
      "cell_type": "code",
      "metadata": {
        "id": "42C6uDNARhxG"
      },
      "source": [
        "def best_k(train_cols, target_col, df, k_vals):\r\n",
        "    rmses = []\r\n",
        "    for v in k_vals:\r\n",
        "        rmses.append(knn_train_test(train_cols, target_col, df, v))\r\n",
        "    \r\n",
        "    plt.scatter(k_vals, rmses)\r\n",
        "    plt.show()\r\n",
        "    \r\n",
        "    min_rmse = min(rmses)\r\n",
        "    min_index = rmses.index(min_rmse)\r\n",
        "    return k_vals[min_index]"
      ],
      "execution_count": 9,
      "outputs": []
    },
    {
      "cell_type": "code",
      "metadata": {
        "colab": {
          "base_uri": "https://localhost:8080/",
          "height": 812
        },
        "id": "hRxskwViRjig",
        "outputId": "74c1ee26-e2ea-4035-df56-f3f942bdd9a1"
      },
      "source": [
        "k_vals = range(1, 26)\r\n",
        "\r\n",
        "best_k_three_features = best_k(['engine_size', 'curb_weight','highway_mpg'], 'price', cars, k_vals)\r\n",
        "print(\"The optimal k value for three features is {}.\".format(best_k_three_features))\r\n",
        "\r\n",
        "best_k_two_features = best_k(['engine_size', 'curb_weight'], 'price', cars, k_vals)\r\n",
        "print(\"The optimal k value for two features is {}.\".format(best_k_two_features))\r\n",
        "\r\n",
        "best_k_five_features = best_k(['engine_size', 'curb_weight','highway_mpg','horsepower','city_mpg'], 'price', cars, k_vals)\r\n",
        "print(\"The optimal k value for five features is {}.\".format(best_k_five_features))"
      ],
      "execution_count": 12,
      "outputs": [
        {
          "output_type": "display_data",
          "data": {
            "image/png": "[encoded data removed]",
            "text/plain": [
              "<Figure size 432x288 with 1 Axes>"
            ]
          },
          "metadata": {
            "tags": [],
            "needs_background": "light"
          }
        },
        {
          "output_type": "stream",
          "text": [
            "The optimal k value for three features is 3.\n"
          ],
          "name": "stdout"
        },
        {
          "output_type": "display_data",
          "data": {
            "image/png": "[encoded data removed]",
            "text/plain": [
              "<Figure size 432x288 with 1 Axes>"
            ]
          },
          "metadata": {
            "tags": [],
            "needs_background": "light"
          }
        },
        {
          "output_type": "stream",
          "text": [
            "The optimal k value for two features is 7.\n"
          ],
          "name": "stdout"
        },
        {
          "output_type": "display_data",
          "data": {
            "image/png": "[encoded data removed]",
            "text/plain": [
              "<Figure size 432x288 with 1 Axes>"
            ]
          },
          "metadata": {
            "tags": [],
            "needs_background": "light"
          }
        },
        {
          "output_type": "stream",
          "text": [
            "The optimal k value for five features is 7.\n"
          ],
          "name": "stdout"
        }
      ]
    }
  ]
}
