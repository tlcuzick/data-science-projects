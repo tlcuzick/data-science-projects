{
  "nbformat": 4,
  "nbformat_minor": 0,
  "metadata": {
    "colab": {
      "name": "thanksgiving_dinner_analysis.ipynb",
      "provenance": [],
      "collapsed_sections": [],
      "authorship_tag": "ABX9TyNOoA5D9LJJ/UFlxPtHm9gr",
      "include_colab_link": true
    },
    "kernelspec": {
      "name": "python3",
      "display_name": "Python 3"
    }
  },
  "cells": [
    {
      "cell_type": "markdown",
      "metadata": {
        "id": "view-in-github",
        "colab_type": "text"
      },
      "source": [
        "<a href=\"https://colab.research.google.com/github/tlcuzick/data-science-projects/blob/main/thanksgiving-dinner-analysis/thanksgiving_dinner_analysis.ipynb\" target=\"_parent\"><img src=\"https://colab.research.google.com/assets/colab-badge.svg\" alt=\"Open In Colab\"/></a>"
      ]
    },
    {
      "cell_type": "code",
      "metadata": {
        "colab": {
          "base_uri": "https://localhost:8080/"
        },
        "id": "hRpMJhMomDEo",
        "outputId": "2e1bb248-f7ee-4429-9d4c-44d59794c8e9"
      },
      "source": [
        "import pandas as pd\r\n",
        "data = pd.read_csv('thanksgiving.csv', encoding='Latin-1')\r\n",
        "print(data.head(3))"
      ],
      "execution_count": 1,
      "outputs": [
        {
          "output_type": "stream",
          "text": [
            "   RespondentID  ...           US Region\n",
            "0    4337954960  ...     Middle Atlantic\n",
            "1    4337951949  ...  East South Central\n",
            "2    4337935621  ...            Mountain\n",
            "\n",
            "[3 rows x 65 columns]\n"
          ],
          "name": "stdout"
        }
      ]
    },
    {
      "cell_type": "code",
      "metadata": {
        "colab": {
          "base_uri": "https://localhost:8080/"
        },
        "id": "BfcaTEQGmdrt",
        "outputId": "cd934f11-0bbd-4551-8e5b-a8b288b3ade2"
      },
      "source": [
        "print(data.columns)"
      ],
      "execution_count": 2,
      "outputs": [
        {
          "output_type": "stream",
          "text": [
            "Index(['RespondentID', 'Do you celebrate Thanksgiving?',\n",
            "       'What is typically the main dish at your Thanksgiving dinner?',\n",
            "       'What is typically the main dish at your Thanksgiving dinner? - Other (please specify)',\n",
            "       'How is the main dish typically cooked?',\n",
            "       'How is the main dish typically cooked? - Other (please specify)',\n",
            "       'What kind of stuffing/dressing do you typically have?',\n",
            "       'What kind of stuffing/dressing do you typically have? - Other (please specify)',\n",
            "       'What type of cranberry saucedo you typically have?',\n",
            "       'What type of cranberry saucedo you typically have? - Other (please specify)',\n",
            "       'Do you typically have gravy?',\n",
            "       'Which of these side dishes aretypically served at your Thanksgiving dinner? Please select all that apply. - Brussel sprouts',\n",
            "       'Which of these side dishes aretypically served at your Thanksgiving dinner? Please select all that apply. - Carrots',\n",
            "       'Which of these side dishes aretypically served at your Thanksgiving dinner? Please select all that apply. - Cauliflower',\n",
            "       'Which of these side dishes aretypically served at your Thanksgiving dinner? Please select all that apply. - Corn',\n",
            "       'Which of these side dishes aretypically served at your Thanksgiving dinner? Please select all that apply. - Cornbread',\n",
            "       'Which of these side dishes aretypically served at your Thanksgiving dinner? Please select all that apply. - Fruit salad',\n",
            "       'Which of these side dishes aretypically served at your Thanksgiving dinner? Please select all that apply. - Green beans/green bean casserole',\n",
            "       'Which of these side dishes aretypically served at your Thanksgiving dinner? Please select all that apply. - Macaroni and cheese',\n",
            "       'Which of these side dishes aretypically served at your Thanksgiving dinner? Please select all that apply. - Mashed potatoes',\n",
            "       'Which of these side dishes aretypically served at your Thanksgiving dinner? Please select all that apply. - Rolls/biscuits',\n",
            "       'Which of these side dishes aretypically served at your Thanksgiving dinner? Please select all that apply. - Squash',\n",
            "       'Which of these side dishes aretypically served at your Thanksgiving dinner? Please select all that apply. - Vegetable salad',\n",
            "       'Which of these side dishes aretypically served at your Thanksgiving dinner? Please select all that apply. - Yams/sweet potato casserole',\n",
            "       'Which of these side dishes aretypically served at your Thanksgiving dinner? Please select all that apply. - Other (please specify)',\n",
            "       'Which of these side dishes aretypically served at your Thanksgiving dinner? Please select all that apply. - Other (please specify).1',\n",
            "       'Which type of pie is typically served at your Thanksgiving dinner? Please select all that apply. - Apple',\n",
            "       'Which type of pie is typically served at your Thanksgiving dinner? Please select all that apply. - Buttermilk',\n",
            "       'Which type of pie is typically served at your Thanksgiving dinner? Please select all that apply. - Cherry',\n",
            "       'Which type of pie is typically served at your Thanksgiving dinner? Please select all that apply. - Chocolate',\n",
            "       'Which type of pie is typically served at your Thanksgiving dinner? Please select all that apply. - Coconut cream',\n",
            "       'Which type of pie is typically served at your Thanksgiving dinner? Please select all that apply. - Key lime',\n",
            "       'Which type of pie is typically served at your Thanksgiving dinner? Please select all that apply. - Peach',\n",
            "       'Which type of pie is typically served at your Thanksgiving dinner? Please select all that apply. - Pecan',\n",
            "       'Which type of pie is typically served at your Thanksgiving dinner? Please select all that apply. - Pumpkin',\n",
            "       'Which type of pie is typically served at your Thanksgiving dinner? Please select all that apply. - Sweet Potato',\n",
            "       'Which type of pie is typically served at your Thanksgiving dinner? Please select all that apply. - None',\n",
            "       'Which type of pie is typically served at your Thanksgiving dinner? Please select all that apply. - Other (please specify)',\n",
            "       'Which type of pie is typically served at your Thanksgiving dinner? Please select all that apply. - Other (please specify).1',\n",
            "       'Which of these desserts do you typically have at Thanksgiving dinner? Please select all that apply.   - Apple cobbler',\n",
            "       'Which of these desserts do you typically have at Thanksgiving dinner? Please select all that apply.   - Blondies',\n",
            "       'Which of these desserts do you typically have at Thanksgiving dinner? Please select all that apply.   - Brownies',\n",
            "       'Which of these desserts do you typically have at Thanksgiving dinner? Please select all that apply.   - Carrot cake',\n",
            "       'Which of these desserts do you typically have at Thanksgiving dinner? Please select all that apply.   - Cheesecake',\n",
            "       'Which of these desserts do you typically have at Thanksgiving dinner? Please select all that apply.   - Cookies',\n",
            "       'Which of these desserts do you typically have at Thanksgiving dinner? Please select all that apply.   - Fudge',\n",
            "       'Which of these desserts do you typically have at Thanksgiving dinner? Please select all that apply.   - Ice cream',\n",
            "       'Which of these desserts do you typically have at Thanksgiving dinner? Please select all that apply.   - Peach cobbler',\n",
            "       'Which of these desserts do you typically have at Thanksgiving dinner? Please select all that apply.   - None',\n",
            "       'Which of these desserts do you typically have at Thanksgiving dinner? Please select all that apply.   - Other (please specify)',\n",
            "       'Which of these desserts do you typically have at Thanksgiving dinner? Please select all that apply.   - Other (please specify).1',\n",
            "       'Do you typically pray before or after the Thanksgiving meal?',\n",
            "       'How far will you travel for Thanksgiving?',\n",
            "       'Will you watch any of the following programs on Thanksgiving? Please select all that apply. - Macy's Parade',\n",
            "       'What's the age cutoff at your \"kids' table\" at Thanksgiving?',\n",
            "       'Have you ever tried to meet up with hometown friends on Thanksgiving night?',\n",
            "       'Have you ever attended a \"Friendsgiving?\"',\n",
            "       'Will you shop any Black Friday sales on Thanksgiving Day?',\n",
            "       'Do you work in retail?',\n",
            "       'Will you employer make you work on Black Friday?',\n",
            "       'How would you describe where you live?', 'Age', 'What is your gender?',\n",
            "       'How much total combined money did all members of your HOUSEHOLD earn last year?',\n",
            "       'US Region'],\n",
            "      dtype='object')\n"
          ],
          "name": "stdout"
        }
      ]
    },
    {
      "cell_type": "code",
      "metadata": {
        "colab": {
          "base_uri": "https://localhost:8080/"
        },
        "id": "3Dn9JpvCmgfN",
        "outputId": "778c5183-d78c-4763-dbce-c41f8cf6fb31"
      },
      "source": [
        "print(data['Do you celebrate Thanksgiving?'].value_counts())"
      ],
      "execution_count": 3,
      "outputs": [
        {
          "output_type": "stream",
          "text": [
            "Yes    980\n",
            "No      78\n",
            "Name: Do you celebrate Thanksgiving?, dtype: int64\n"
          ],
          "name": "stdout"
        }
      ]
    },
    {
      "cell_type": "code",
      "metadata": {
        "id": "Ya7eSENRmlDh"
      },
      "source": [
        "celebrate_thanksgiving = data['Do you celebrate Thanksgiving?'] == 'Yes'\r\n",
        "data = data[celebrate_thanksgiving == True]"
      ],
      "execution_count": 4,
      "outputs": []
    },
    {
      "cell_type": "code",
      "metadata": {
        "colab": {
          "base_uri": "https://localhost:8080/"
        },
        "id": "oZyMjnjbmojP",
        "outputId": "cc7a2e10-1557-40e8-ce49-ca84702b5ab9"
      },
      "source": [
        "print(data['What is typically the main dish at your Thanksgiving dinner?'].value_counts())"
      ],
      "execution_count": 5,
      "outputs": [
        {
          "output_type": "stream",
          "text": [
            "Turkey                    859\n",
            "Other (please specify)     35\n",
            "Ham/Pork                   29\n",
            "Tofurkey                   20\n",
            "Chicken                    12\n",
            "Roast beef                 11\n",
            "I don't know                5\n",
            "Turducken                   3\n",
            "Name: What is typically the main dish at your Thanksgiving dinner?, dtype: int64\n"
          ],
          "name": "stdout"
        }
      ]
    },
    {
      "cell_type": "code",
      "metadata": {
        "colab": {
          "base_uri": "https://localhost:8080/"
        },
        "id": "GePG8896msIv",
        "outputId": "f7638043-feac-44d2-f5c3-f9f4e1a1417a"
      },
      "source": [
        "eats_tofurkey = data['What is typically the main dish at your Thanksgiving dinner?'] == 'Tofurkey'\r\n",
        "print(data[eats_tofurkey == True]['Do you typically have gravy?'])"
      ],
      "execution_count": 6,
      "outputs": [
        {
          "output_type": "stream",
          "text": [
            "4      Yes\n",
            "33     Yes\n",
            "69      No\n",
            "72      No\n",
            "77     Yes\n",
            "145    Yes\n",
            "175    Yes\n",
            "218     No\n",
            "243    Yes\n",
            "275     No\n",
            "393    Yes\n",
            "399    Yes\n",
            "571    Yes\n",
            "594    Yes\n",
            "628     No\n",
            "774     No\n",
            "820     No\n",
            "837    Yes\n",
            "860     No\n",
            "953    Yes\n",
            "Name: Do you typically have gravy?, dtype: object\n"
          ],
          "name": "stdout"
        }
      ]
    },
    {
      "cell_type": "code",
      "metadata": {
        "colab": {
          "base_uri": "https://localhost:8080/"
        },
        "id": "G0YG_9rYmxCi",
        "outputId": "8d734517-5ed4-4883-a1a3-7896b636d4a8"
      },
      "source": [
        "apple_isnull = pd.isnull(data['Which type of pie is typically served at your Thanksgiving dinner? Please select all that apply. - Apple'])\r\n",
        "pumpkin_isnull = pd.isnull(data['Which type of pie is typically served at your Thanksgiving dinner? Please select all that apply. - Pumpkin'])\r\n",
        "pecan_isnull = pd.isnull(data['Which type of pie is typically served at your Thanksgiving dinner? Please select all that apply. - Pecan'])\r\n",
        "ate_pies = apple_isnull & pumpkin_isnull & pecan_isnull\r\n",
        "print(ate_pies.value_counts())"
      ],
      "execution_count": 7,
      "outputs": [
        {
          "output_type": "stream",
          "text": [
            "False    876\n",
            "True     104\n",
            "dtype: int64\n"
          ],
          "name": "stdout"
        }
      ]
    },
    {
      "cell_type": "code",
      "metadata": {
        "colab": {
          "base_uri": "https://localhost:8080/"
        },
        "id": "VQzlpWm5m3wl",
        "outputId": "c0e5ac88-4a40-438b-b43d-e3152ec27400"
      },
      "source": [
        "def convert_age_string(age_string):\r\n",
        "    if pd.isnull(age_string):\r\n",
        "        return None\r\n",
        "    new_string = age_string.split(' ')[0].replace('+', '')\r\n",
        "    return int(new_string)\r\n",
        "data['int_age'] = data['Age'].apply(convert_age_string)\r\n",
        "print(data['int_age'].describe())"
      ],
      "execution_count": 8,
      "outputs": [
        {
          "output_type": "stream",
          "text": [
            "count    947.000000\n",
            "mean      40.089757\n",
            "std       15.352014\n",
            "min       18.000000\n",
            "25%       30.000000\n",
            "50%       45.000000\n",
            "75%       60.000000\n",
            "max       60.000000\n",
            "Name: int_age, dtype: float64\n"
          ],
          "name": "stdout"
        }
      ]
    },
    {
      "cell_type": "markdown",
      "metadata": {
        "id": "3pqylymlm--p"
      },
      "source": [
        "Please note that the ages upon which the above statistics are based are approximations extrapolated from age buckets.\r\n",
        "\r\n",
        "There were four distinct age buckets included in the \"Age\" field: 18 - 29, 30 - 44, 45 - 59, and 60+. Since my code only considered the first age in the respective age ranges it's possible that the aggregate statistics are skewed towards younger ages."
      ]
    },
    {
      "cell_type": "code",
      "metadata": {
        "colab": {
          "base_uri": "https://localhost:8080/"
        },
        "id": "HSkYXTxfn782",
        "outputId": "6690c2a0-4dc6-4a80-a169-e24552b2e60a"
      },
      "source": [
        "def convert_income_string(income_string):\r\n",
        "    if pd.isnull(income_string):\r\n",
        "        return None\r\n",
        "    new_string = income_string.split(' ')[0].replace('$', '').replace(',', '')\r\n",
        "    if new_string == 'Prefer':\r\n",
        "        return None\r\n",
        "    return int(new_string)\r\n",
        "data['int_income'] = data['How much total combined money did all members of your HOUSEHOLD earn last year?'].apply(convert_income_string)\r\n",
        "print(data['int_income'].describe())"
      ],
      "execution_count": 9,
      "outputs": [
        {
          "output_type": "stream",
          "text": [
            "count       829.000000\n",
            "mean      75965.018094\n",
            "std       59068.636748\n",
            "min           0.000000\n",
            "25%       25000.000000\n",
            "50%       75000.000000\n",
            "75%      100000.000000\n",
            "max      200000.000000\n",
            "Name: int_income, dtype: float64\n"
          ],
          "name": "stdout"
        }
      ]
    },
    {
      "cell_type": "markdown",
      "metadata": {
        "id": "DHBNd1wWoLpd"
      },
      "source": [
        "Please note that the incomes upon which the above statistics are based are approximations extrapolated from income brackets. There were ten distinct income brackets included in the \"How much total combined money did all members of your HOUSEHOLD earn last year?\" field. Since my code only considered the first (lowest) income in each respective income bracket, it's possible that the aggregate statistics are skewed towards smaller incomes."
      ]
    },
    {
      "cell_type": "code",
      "metadata": {
        "colab": {
          "base_uri": "https://localhost:8080/"
        },
        "id": "bYgUrLMNoMap",
        "outputId": "e25887a8-a911-4e5b-eecf-bea90946eeac"
      },
      "source": [
        "less_than_150k = data['int_income'] < 150000\r\n",
        "less_than_150k_rows = data[less_than_150k == True]\r\n",
        "print(less_than_150k_rows['How far will you travel for Thanksgiving?'].value_counts())"
      ],
      "execution_count": 10,
      "outputs": [
        {
          "output_type": "stream",
          "text": [
            "Thanksgiving is happening at my home--I won't travel at all                         281\n",
            "Thanksgiving is local--it will take place in the town I live in                     203\n",
            "Thanksgiving is out of town but not too far--it's a drive of a few hours or less    150\n",
            "Thanksgiving is out of town and far away--I have to drive several hours or fly       55\n",
            "Name: How far will you travel for Thanksgiving?, dtype: int64\n"
          ],
          "name": "stdout"
        }
      ]
    },
    {
      "cell_type": "code",
      "metadata": {
        "colab": {
          "base_uri": "https://localhost:8080/"
        },
        "id": "BIvdqkJVoUrr",
        "outputId": "3a40e4ff-156a-4618-a301-4d3d4c5374c8"
      },
      "source": [
        "greater_than_150k = data['int_income'] > 150000\r\n",
        "greater_than_150k_rows = data[greater_than_150k == True]\r\n",
        "print(greater_than_150k_rows['How far will you travel for Thanksgiving?'].value_counts())"
      ],
      "execution_count": 11,
      "outputs": [
        {
          "output_type": "stream",
          "text": [
            "Thanksgiving is happening at my home--I won't travel at all                         49\n",
            "Thanksgiving is local--it will take place in the town I live in                     25\n",
            "Thanksgiving is out of town but not too far--it's a drive of a few hours or less    16\n",
            "Thanksgiving is out of town and far away--I have to drive several hours or fly      12\n",
            "Name: How far will you travel for Thanksgiving?, dtype: int64\n"
          ],
          "name": "stdout"
        }
      ]
    },
    {
      "cell_type": "markdown",
      "metadata": {
        "id": "rVbvhh0hoWdX"
      },
      "source": [
        "Clearly, people making less than 150,000 a year tend to travel less on Thanksgiving than those making more. This could be interpreted to mean that people making less money, who would tend to be younger, often visit their parents homes for Thanksgiving."
      ]
    },
    {
      "cell_type": "code",
      "metadata": {
        "colab": {
          "base_uri": "https://localhost:8080/"
        },
        "id": "n_k___XpoZy9",
        "outputId": "bfbc3a9a-fca1-42b0-8c77-a58b8214e10e"
      },
      "source": [
        "print(data.pivot_table(index='Have you ever tried to meet up with hometown friends on Thanksgiving night?',columns='Have you ever attended a \"Friendsgiving?\"',values='int_age'))"
      ],
      "execution_count": 12,
      "outputs": [
        {
          "output_type": "stream",
          "text": [
            "Have you ever attended a \"Friendsgiving?\"                  No        Yes\n",
            "Have you ever tried to meet up with hometown fr...                      \n",
            "No                                                  42.283702  37.010526\n",
            "Yes                                                 41.475410  33.976744\n"
          ],
          "name": "stdout"
        }
      ]
    },
    {
      "cell_type": "code",
      "metadata": {
        "colab": {
          "base_uri": "https://localhost:8080/"
        },
        "id": "cVuN39b9ode1",
        "outputId": "3e69bff5-a46b-47a2-ab33-998571d5f244"
      },
      "source": [
        "print(data.pivot_table(index='Have you ever tried to meet up with hometown friends on Thanksgiving night?',columns='Have you ever attended a \"Friendsgiving?\"',values='int_income'))"
      ],
      "execution_count": 13,
      "outputs": [
        {
          "output_type": "stream",
          "text": [
            "Have you ever attended a \"Friendsgiving?\"                     No           Yes\n",
            "Have you ever tried to meet up with hometown fr...                            \n",
            "No                                                  78914.549654  72894.736842\n",
            "Yes                                                 78750.000000  66019.736842\n"
          ],
          "name": "stdout"
        }
      ]
    },
    {
      "cell_type": "markdown",
      "metadata": {
        "id": "-VAavLJCogv3"
      },
      "source": [
        "It appears that despite the apparent similarities between a \"Friendsgiving\" and simply having Thanksgiving dinner with your friends, only the latter was correlated with youth and a lower income. \"Friendsgivings\" by contrast seem to correlate with higher age and income, even when they overlap with simply having Thanksgiving dinner with friends."
      ]
    }
  ]
}