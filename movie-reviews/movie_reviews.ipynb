{
  "nbformat": 4,
  "nbformat_minor": 0,
  "metadata": {
    "colab": {
      "name": "movie_reviews.ipynb",
      "provenance": [],
      "authorship_tag": "ABX9TyPFPHoF39bR8gFdU7Lh8XDz",
      "include_colab_link": true
    },
    "kernelspec": {
      "name": "python3",
      "display_name": "Python 3"
    }
  },
  "cells": [
    {
      "cell_type": "markdown",
      "metadata": {
        "id": "view-in-github",
        "colab_type": "text"
      },
      "source": [
        "<a href=\"https://colab.research.google.com/github/tlcuzick/data-science-projects/blob/main/movie-reviews/movie_reviews.ipynb\" target=\"_parent\"><img src=\"https://colab.research.google.com/assets/colab-badge.svg\" alt=\"Open In Colab\"/></a>"
      ]
    },
    {
      "cell_type": "code",
      "metadata": {
        "id": "a0NE4WSejlas"
      },
      "source": [
        "import numpy as np\r\n",
        "import pandas as pd\r\n",
        "from scipy.stats.stats import pearsonr\r\n",
        "from scipy.stats import linregress\r\n",
        "import matplotlib.pyplot as plt\r\n",
        "\r\n",
        "movies = pd.read_csv('fandango_score_comparison.csv')"
      ],
      "execution_count": 1,
      "outputs": []
    },
    {
      "cell_type": "code",
      "metadata": {
        "colab": {
          "base_uri": "https://localhost:8080/",
          "height": 864
        },
        "id": "TwX81JU4j3PL",
        "outputId": "0386e946-bc6b-48c8-ec33-782da2ff9015"
      },
      "source": [
        "movies"
      ],
      "execution_count": 2,
      "outputs": [
        {
          "output_type": "execute_result",
          "data": {
            "text/html": [
              "<div>\n",
              "<style scoped>\n",
              "    .dataframe tbody tr th:only-of-type {\n",
              "        vertical-align: middle;\n",
              "    }\n",
              "\n",
              "    .dataframe tbody tr th {\n",
              "        vertical-align: top;\n",
              "    }\n",
              "\n",
              "    .dataframe thead th {\n",
              "        text-align: right;\n",
              "    }\n",
              "</style>\n",
              "<table border=\"1\" class=\"dataframe\">\n",
              "  <thead>\n",
              "    <tr style=\"text-align: right;\">\n",
              "      <th></th>\n",
              "      <th>FILM</th>\n",
              "      <th>RottenTomatoes</th>\n",
              "      <th>RottenTomatoes_User</th>\n",
              "      <th>Metacritic</th>\n",
              "      <th>Metacritic_User</th>\n",
              "      <th>IMDB</th>\n",
              "      <th>Fandango_Stars</th>\n",
              "      <th>Fandango_Ratingvalue</th>\n",
              "      <th>RT_norm</th>\n",
              "      <th>RT_user_norm</th>\n",
              "      <th>Metacritic_norm</th>\n",
              "      <th>Metacritic_user_nom</th>\n",
              "      <th>IMDB_norm</th>\n",
              "      <th>RT_norm_round</th>\n",
              "      <th>RT_user_norm_round</th>\n",
              "      <th>Metacritic_norm_round</th>\n",
              "      <th>Metacritic_user_norm_round</th>\n",
              "      <th>IMDB_norm_round</th>\n",
              "      <th>Metacritic_user_vote_count</th>\n",
              "      <th>IMDB_user_vote_count</th>\n",
              "      <th>Fandango_votes</th>\n",
              "      <th>Fandango_Difference</th>\n",
              "    </tr>\n",
              "  </thead>\n",
              "  <tbody>\n",
              "    <tr>\n",
              "      <th>0</th>\n",
              "      <td>Avengers: Age of Ultron (2015)</td>\n",
              "      <td>74</td>\n",
              "      <td>86</td>\n",
              "      <td>66</td>\n",
              "      <td>7.1</td>\n",
              "      <td>7.8</td>\n",
              "      <td>5.0</td>\n",
              "      <td>4.5</td>\n",
              "      <td>3.70</td>\n",
              "      <td>4.30</td>\n",
              "      <td>3.30</td>\n",
              "      <td>3.55</td>\n",
              "      <td>3.90</td>\n",
              "      <td>3.5</td>\n",
              "      <td>4.5</td>\n",
              "      <td>3.5</td>\n",
              "      <td>3.5</td>\n",
              "      <td>4.0</td>\n",
              "      <td>1330</td>\n",
              "      <td>271107</td>\n",
              "      <td>14846</td>\n",
              "      <td>0.5</td>\n",
              "    </tr>\n",
              "    <tr>\n",
              "      <th>1</th>\n",
              "      <td>Cinderella (2015)</td>\n",
              "      <td>85</td>\n",
              "      <td>80</td>\n",
              "      <td>67</td>\n",
              "      <td>7.5</td>\n",
              "      <td>7.1</td>\n",
              "      <td>5.0</td>\n",
              "      <td>4.5</td>\n",
              "      <td>4.25</td>\n",
              "      <td>4.00</td>\n",
              "      <td>3.35</td>\n",
              "      <td>3.75</td>\n",
              "      <td>3.55</td>\n",
              "      <td>4.5</td>\n",
              "      <td>4.0</td>\n",
              "      <td>3.5</td>\n",
              "      <td>4.0</td>\n",
              "      <td>3.5</td>\n",
              "      <td>249</td>\n",
              "      <td>65709</td>\n",
              "      <td>12640</td>\n",
              "      <td>0.5</td>\n",
              "    </tr>\n",
              "    <tr>\n",
              "      <th>2</th>\n",
              "      <td>Ant-Man (2015)</td>\n",
              "      <td>80</td>\n",
              "      <td>90</td>\n",
              "      <td>64</td>\n",
              "      <td>8.1</td>\n",
              "      <td>7.8</td>\n",
              "      <td>5.0</td>\n",
              "      <td>4.5</td>\n",
              "      <td>4.00</td>\n",
              "      <td>4.50</td>\n",
              "      <td>3.20</td>\n",
              "      <td>4.05</td>\n",
              "      <td>3.90</td>\n",
              "      <td>4.0</td>\n",
              "      <td>4.5</td>\n",
              "      <td>3.0</td>\n",
              "      <td>4.0</td>\n",
              "      <td>4.0</td>\n",
              "      <td>627</td>\n",
              "      <td>103660</td>\n",
              "      <td>12055</td>\n",
              "      <td>0.5</td>\n",
              "    </tr>\n",
              "    <tr>\n",
              "      <th>3</th>\n",
              "      <td>Do You Believe? (2015)</td>\n",
              "      <td>18</td>\n",
              "      <td>84</td>\n",
              "      <td>22</td>\n",
              "      <td>4.7</td>\n",
              "      <td>5.4</td>\n",
              "      <td>5.0</td>\n",
              "      <td>4.5</td>\n",
              "      <td>0.90</td>\n",
              "      <td>4.20</td>\n",
              "      <td>1.10</td>\n",
              "      <td>2.35</td>\n",
              "      <td>2.70</td>\n",
              "      <td>1.0</td>\n",
              "      <td>4.0</td>\n",
              "      <td>1.0</td>\n",
              "      <td>2.5</td>\n",
              "      <td>2.5</td>\n",
              "      <td>31</td>\n",
              "      <td>3136</td>\n",
              "      <td>1793</td>\n",
              "      <td>0.5</td>\n",
              "    </tr>\n",
              "    <tr>\n",
              "      <th>4</th>\n",
              "      <td>Hot Tub Time Machine 2 (2015)</td>\n",
              "      <td>14</td>\n",
              "      <td>28</td>\n",
              "      <td>29</td>\n",
              "      <td>3.4</td>\n",
              "      <td>5.1</td>\n",
              "      <td>3.5</td>\n",
              "      <td>3.0</td>\n",
              "      <td>0.70</td>\n",
              "      <td>1.40</td>\n",
              "      <td>1.45</td>\n",
              "      <td>1.70</td>\n",
              "      <td>2.55</td>\n",
              "      <td>0.5</td>\n",
              "      <td>1.5</td>\n",
              "      <td>1.5</td>\n",
              "      <td>1.5</td>\n",
              "      <td>2.5</td>\n",
              "      <td>88</td>\n",
              "      <td>19560</td>\n",
              "      <td>1021</td>\n",
              "      <td>0.5</td>\n",
              "    </tr>\n",
              "    <tr>\n",
              "      <th>...</th>\n",
              "      <td>...</td>\n",
              "      <td>...</td>\n",
              "      <td>...</td>\n",
              "      <td>...</td>\n",
              "      <td>...</td>\n",
              "      <td>...</td>\n",
              "      <td>...</td>\n",
              "      <td>...</td>\n",
              "      <td>...</td>\n",
              "      <td>...</td>\n",
              "      <td>...</td>\n",
              "      <td>...</td>\n",
              "      <td>...</td>\n",
              "      <td>...</td>\n",
              "      <td>...</td>\n",
              "      <td>...</td>\n",
              "      <td>...</td>\n",
              "      <td>...</td>\n",
              "      <td>...</td>\n",
              "      <td>...</td>\n",
              "      <td>...</td>\n",
              "      <td>...</td>\n",
              "    </tr>\n",
              "    <tr>\n",
              "      <th>141</th>\n",
              "      <td>Mr. Holmes (2015)</td>\n",
              "      <td>87</td>\n",
              "      <td>78</td>\n",
              "      <td>67</td>\n",
              "      <td>7.9</td>\n",
              "      <td>7.4</td>\n",
              "      <td>4.0</td>\n",
              "      <td>4.0</td>\n",
              "      <td>4.35</td>\n",
              "      <td>3.90</td>\n",
              "      <td>3.35</td>\n",
              "      <td>3.95</td>\n",
              "      <td>3.70</td>\n",
              "      <td>4.5</td>\n",
              "      <td>4.0</td>\n",
              "      <td>3.5</td>\n",
              "      <td>4.0</td>\n",
              "      <td>3.5</td>\n",
              "      <td>33</td>\n",
              "      <td>7367</td>\n",
              "      <td>1348</td>\n",
              "      <td>0.0</td>\n",
              "    </tr>\n",
              "    <tr>\n",
              "      <th>142</th>\n",
              "      <td>'71 (2015)</td>\n",
              "      <td>97</td>\n",
              "      <td>82</td>\n",
              "      <td>83</td>\n",
              "      <td>7.5</td>\n",
              "      <td>7.2</td>\n",
              "      <td>3.5</td>\n",
              "      <td>3.5</td>\n",
              "      <td>4.85</td>\n",
              "      <td>4.10</td>\n",
              "      <td>4.15</td>\n",
              "      <td>3.75</td>\n",
              "      <td>3.60</td>\n",
              "      <td>5.0</td>\n",
              "      <td>4.0</td>\n",
              "      <td>4.0</td>\n",
              "      <td>4.0</td>\n",
              "      <td>3.5</td>\n",
              "      <td>60</td>\n",
              "      <td>24116</td>\n",
              "      <td>192</td>\n",
              "      <td>0.0</td>\n",
              "    </tr>\n",
              "    <tr>\n",
              "      <th>143</th>\n",
              "      <td>Two Days, One Night (2014)</td>\n",
              "      <td>97</td>\n",
              "      <td>78</td>\n",
              "      <td>89</td>\n",
              "      <td>8.8</td>\n",
              "      <td>7.4</td>\n",
              "      <td>3.5</td>\n",
              "      <td>3.5</td>\n",
              "      <td>4.85</td>\n",
              "      <td>3.90</td>\n",
              "      <td>4.45</td>\n",
              "      <td>4.40</td>\n",
              "      <td>3.70</td>\n",
              "      <td>5.0</td>\n",
              "      <td>4.0</td>\n",
              "      <td>4.5</td>\n",
              "      <td>4.5</td>\n",
              "      <td>3.5</td>\n",
              "      <td>123</td>\n",
              "      <td>24345</td>\n",
              "      <td>118</td>\n",
              "      <td>0.0</td>\n",
              "    </tr>\n",
              "    <tr>\n",
              "      <th>144</th>\n",
              "      <td>Gett: The Trial of Viviane Amsalem (2015)</td>\n",
              "      <td>100</td>\n",
              "      <td>81</td>\n",
              "      <td>90</td>\n",
              "      <td>7.3</td>\n",
              "      <td>7.8</td>\n",
              "      <td>3.5</td>\n",
              "      <td>3.5</td>\n",
              "      <td>5.00</td>\n",
              "      <td>4.05</td>\n",
              "      <td>4.50</td>\n",
              "      <td>3.65</td>\n",
              "      <td>3.90</td>\n",
              "      <td>5.0</td>\n",
              "      <td>4.0</td>\n",
              "      <td>4.5</td>\n",
              "      <td>3.5</td>\n",
              "      <td>4.0</td>\n",
              "      <td>19</td>\n",
              "      <td>1955</td>\n",
              "      <td>59</td>\n",
              "      <td>0.0</td>\n",
              "    </tr>\n",
              "    <tr>\n",
              "      <th>145</th>\n",
              "      <td>Kumiko, The Treasure Hunter (2015)</td>\n",
              "      <td>87</td>\n",
              "      <td>63</td>\n",
              "      <td>68</td>\n",
              "      <td>6.4</td>\n",
              "      <td>6.7</td>\n",
              "      <td>3.5</td>\n",
              "      <td>3.5</td>\n",
              "      <td>4.35</td>\n",
              "      <td>3.15</td>\n",
              "      <td>3.40</td>\n",
              "      <td>3.20</td>\n",
              "      <td>3.35</td>\n",
              "      <td>4.5</td>\n",
              "      <td>3.0</td>\n",
              "      <td>3.5</td>\n",
              "      <td>3.0</td>\n",
              "      <td>3.5</td>\n",
              "      <td>19</td>\n",
              "      <td>5289</td>\n",
              "      <td>41</td>\n",
              "      <td>0.0</td>\n",
              "    </tr>\n",
              "  </tbody>\n",
              "</table>\n",
              "<p>146 rows × 22 columns</p>\n",
              "</div>"
            ],
            "text/plain": [
              "                                          FILM  ...  Fandango_Difference\n",
              "0               Avengers: Age of Ultron (2015)  ...                  0.5\n",
              "1                            Cinderella (2015)  ...                  0.5\n",
              "2                               Ant-Man (2015)  ...                  0.5\n",
              "3                       Do You Believe? (2015)  ...                  0.5\n",
              "4                Hot Tub Time Machine 2 (2015)  ...                  0.5\n",
              "..                                         ...  ...                  ...\n",
              "141                          Mr. Holmes (2015)  ...                  0.0\n",
              "142                                 '71 (2015)  ...                  0.0\n",
              "143                 Two Days, One Night (2014)  ...                  0.0\n",
              "144  Gett: The Trial of Viviane Amsalem (2015)  ...                  0.0\n",
              "145         Kumiko, The Treasure Hunter (2015)  ...                  0.0\n",
              "\n",
              "[146 rows x 22 columns]"
            ]
          },
          "metadata": {
            "tags": []
          },
          "execution_count": 2
        }
      ]
    },
    {
      "cell_type": "code",
      "metadata": {
        "id": "H9Ia62y6j6sN"
      },
      "source": [
        "%matplotlib inline"
      ],
      "execution_count": 3,
      "outputs": []
    },
    {
      "cell_type": "code",
      "metadata": {
        "colab": {
          "base_uri": "https://localhost:8080/",
          "height": 265
        },
        "id": "xleC_M5gkCPQ",
        "outputId": "3740fc80-5fef-4c8f-a508-9b99986496c2"
      },
      "source": [
        "plt.hist(movies['Metacritic_norm_round'],range=[0,5])\r\n",
        "plt.show()"
      ],
      "execution_count": 4,
      "outputs": [
        {
          "output_type": "display_data",
          "data": {
            "image/png": "[encoded data removed]",
            "text/plain": [
              "<Figure size 432x288 with 1 Axes>"
            ]
          },
          "metadata": {
            "tags": [],
            "needs_background": "light"
          }
        }
      ]
    },
    {
      "cell_type": "code",
      "metadata": {
        "colab": {
          "base_uri": "https://localhost:8080/",
          "height": 265
        },
        "id": "h-C3wcHHkCgx",
        "outputId": "a6516203-3a7b-40b3-c8da-6700dc761dfc"
      },
      "source": [
        "plt.hist(movies['Fandango_Stars'], range=[0,5])\r\n",
        "plt.show()"
      ],
      "execution_count": 5,
      "outputs": [
        {
          "output_type": "display_data",
          "data": {
            "image/png": "[encoded data removed]",
            "text/plain": [
              "<Figure size 432x288 with 1 Axes>"
            ]
          },
          "metadata": {
            "tags": [],
            "needs_background": "light"
          }
        }
      ]
    },
    {
      "cell_type": "markdown",
      "metadata": {
        "id": "YmUvYNsykMqF"
      },
      "source": [
        "When set to the same 0-5 scale, histograms of Metacritic reviews vs Fandango reviews clearly show a much wider distribution in the former, and a much narrower distribution concentrated towards higher reviews in the latter."
      ]
    },
    {
      "cell_type": "code",
      "metadata": {
        "colab": {
          "base_uri": "https://localhost:8080/"
        },
        "id": "zZpWZgO_kRiJ",
        "outputId": "c90dc3cc-3ccb-4426-91ad-7b0002d3f696"
      },
      "source": [
        "print('Fandango mean: {}'.format(movies['Fandango_Stars'].mean()))\r\n",
        "print('Metacritic mean: {}'.format(movies['Metacritic_norm_round'].mean()))"
      ],
      "execution_count": 6,
      "outputs": [
        {
          "output_type": "stream",
          "text": [
            "Fandango mean: 4.089041095890411\n",
            "Metacritic mean: 2.9726027397260273\n"
          ],
          "name": "stdout"
        }
      ]
    },
    {
      "cell_type": "code",
      "metadata": {
        "colab": {
          "base_uri": "https://localhost:8080/"
        },
        "id": "wjqfjEqQkRzO",
        "outputId": "a02325d5-7a72-4293-eeea-949c485ebf2f"
      },
      "source": [
        "print('Fandango median: {}'.format(movies['Fandango_Stars'].median()))\r\n",
        "print('Metacritic median: {}'.format(movies['Metacritic_norm_round'].median()))"
      ],
      "execution_count": 7,
      "outputs": [
        {
          "output_type": "stream",
          "text": [
            "Fandango median: 4.0\n",
            "Metacritic median: 3.0\n"
          ],
          "name": "stdout"
        }
      ]
    },
    {
      "cell_type": "code",
      "metadata": {
        "colab": {
          "base_uri": "https://localhost:8080/"
        },
        "id": "wFbuyn2HkYQP",
        "outputId": "1a38983d-d8f4-4e15-f560-f2c875d1d902"
      },
      "source": [
        "print('Fandango standard deviation: {}'.format(np.std(movies['Fandango_Stars'])))\r\n",
        "print('Metacritic standard deviation: {}'.format(np.std(movies['Metacritic_norm_round'])))"
      ],
      "execution_count": 8,
      "outputs": [
        {
          "output_type": "stream",
          "text": [
            "Fandango standard deviation: 0.5385321612699531\n",
            "Metacritic standard deviation: 0.9875610297038636\n"
          ],
          "name": "stdout"
        }
      ]
    },
    {
      "cell_type": "markdown",
      "metadata": {
        "id": "WsOGxKS0khoj"
      },
      "source": [
        "* Metacritic's mean appears to be lower than its median due to a relatively small number of very low reviews skewing it downwards. Conversely, Fandango's mean appears to be higher than its median because of a concentration of movies with the highest possible rating of 5 stars.\r\n",
        "\r\n",
        "* The standard deviation for Metacritic reviews is MUCH higher than that of Fandango reviews, indicating a generally wider variety of reviews from Metacritic reviewers. Based on the histograms, this variety mainly comes from lower reviews, which are pratically non-existent on Fandango.\r\n",
        "\r\n",
        "* The mean ratings for Fandango are significantly higher than those for Metacritic across the same set of movies, indicating a structural/procedural difference in how the sites gather and aggregate reviews."
      ]
    },
    {
      "cell_type": "code",
      "metadata": {
        "colab": {
          "base_uri": "https://localhost:8080/",
          "height": 265
        },
        "id": "T8TV_VyJkll1",
        "outputId": "2e3b9996-00e4-478d-fa86-f93dff95c3d5"
      },
      "source": [
        "plt.scatter(movies['Fandango_Stars'],movies['Metacritic_norm_round'])\r\n",
        "plt.show()"
      ],
      "execution_count": 9,
      "outputs": [
        {
          "output_type": "display_data",
          "data": {
            "image/png": "[encoded data removed]",
            "text/plain": [
              "<Figure size 432x288 with 1 Axes>"
            ]
          },
          "metadata": {
            "tags": [],
            "needs_background": "light"
          }
        }
      ]
    },
    {
      "cell_type": "code",
      "metadata": {
        "colab": {
          "base_uri": "https://localhost:8080/"
        },
        "id": "xaCmTkX6kpR-",
        "outputId": "637d4653-67ec-4da1-9555-f39d015c9c78"
      },
      "source": [
        "movies['fm_diff'] = movies['Metacritic_norm_round'] - movies['Fandango_Stars']\r\n",
        "movies['fm_diff'] = np.absolute(movies['fm_diff'])\r\n",
        "movies.sort_values('fm_diff',ascending=False,inplace=True)\r\n",
        "print(movies.head(5))"
      ],
      "execution_count": 10,
      "outputs": [
        {
          "output_type": "stream",
          "text": [
            "                        FILM  RottenTomatoes  ...  Fandango_Difference  fm_diff\n",
            "3     Do You Believe? (2015)              18  ...                  0.5      4.0\n",
            "85         Little Boy (2015)              20  ...                  0.2      3.0\n",
            "47              Annie (2014)              27  ...                  0.3      3.0\n",
            "19             Pixels (2015)              17  ...                  0.4      3.0\n",
            "134  The Longest Ride (2015)              31  ...                  0.0      3.0\n",
            "\n",
            "[5 rows x 23 columns]\n"
          ],
          "name": "stdout"
        }
      ]
    },
    {
      "cell_type": "code",
      "metadata": {
        "colab": {
          "base_uri": "https://localhost:8080/"
        },
        "id": "SX7oO4c2kxMH",
        "outputId": "dd0c8758-789d-409b-b00c-ea7c4f78d187"
      },
      "source": [
        "print('Correlation: {}'.format(pearsonr(movies['Fandango_Stars'], movies['Metacritic_norm_round'])[0]))"
      ],
      "execution_count": 11,
      "outputs": [
        {
          "output_type": "stream",
          "text": [
            "Correlation: 0.17844919073895918\n"
          ],
          "name": "stdout"
        }
      ]
    },
    {
      "cell_type": "markdown",
      "metadata": {
        "id": "-8Rhx1UWk3US"
      },
      "source": [
        "The correlation between Metacritic and Fandango reviews for the same movies is very low. This could imply that their rating methodologies are simply very different, or that one (or both) methodologies is flawed or biased in some way."
      ]
    },
    {
      "cell_type": "code",
      "metadata": {
        "id": "cL9aK21Ak5D8"
      },
      "source": [
        "slope, intercept, r_value, p_value, stderr_slope = linregress(movies['Metacritic_norm_round'],movies['Fandango_Stars'])"
      ],
      "execution_count": 12,
      "outputs": []
    },
    {
      "cell_type": "code",
      "metadata": {
        "colab": {
          "base_uri": "https://localhost:8080/"
        },
        "id": "ogYpNHQzk9JN",
        "outputId": "5dd4de3e-7707-447c-e9ef-6aa538c4f47a"
      },
      "source": [
        "pred_3 = 3 * slope + intercept\r\n",
        "print(pred_3)"
      ],
      "execution_count": 13,
      "outputs": [
        {
          "output_type": "stream",
          "text": [
            "4.091707152821204\n"
          ],
          "name": "stdout"
        }
      ]
    },
    {
      "cell_type": "code",
      "metadata": {
        "colab": {
          "base_uri": "https://localhost:8080/",
          "height": 265
        },
        "id": "xu5IAksxlCbn",
        "outputId": "d13171eb-5bf4-4a37-ae99-f284ffb63569"
      },
      "source": [
        "xvals = []\r\n",
        "for n in range(0, 6):\r\n",
        "    xvals.append(float(n))\r\n",
        "    \r\n",
        "yvals = []\r\n",
        "\r\n",
        "for x in xvals:\r\n",
        "    yvals.append(x * slope + intercept)\r\n",
        "\r\n",
        "plt.scatter(xvals, yvals)\r\n",
        "plt.plot(xvals, yvals)\r\n",
        "plt.xlim(1,5)\r\n",
        "plt.show()"
      ],
      "execution_count": 14,
      "outputs": [
        {
          "output_type": "display_data",
          "data": {
            "image/png": "[encoded data removed]",
            "text/plain": [
              "<Figure size 432x288 with 1 Axes>"
            ]
          },
          "metadata": {
            "tags": [],
            "needs_background": "light"
          }
        }
      ]
    }
  ]
}