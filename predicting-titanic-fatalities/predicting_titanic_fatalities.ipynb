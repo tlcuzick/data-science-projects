{
  "nbformat": 4,
  "nbformat_minor": 0,
  "metadata": {
    "colab": {
      "name": "predicting_titanic_fatalities.ipynb",
      "provenance": [],
      "authorship_tag": "ABX9TyN5IuL5yRgNFOr5WnRwFysp",
      "include_colab_link": true
    },
    "kernelspec": {
      "name": "python3",
      "display_name": "Python 3"
    }
  },
  "cells": [
    {
      "cell_type": "markdown",
      "metadata": {
        "id": "view-in-github",
        "colab_type": "text"
      },
      "source": [
        "<a href=\"https://colab.research.google.com/github/tlcuzick/data-science-projects/blob/main/predicting-titanic-fatalities/predicting_titanic_fatalities.ipynb\" target=\"_parent\"><img src=\"https://colab.research.google.com/assets/colab-badge.svg\" alt=\"Open In Colab\"/></a>"
      ]
    },
    {
      "cell_type": "code",
      "metadata": {
        "id": "ra8IzREraz23"
      },
      "source": [
        "import numpy as np\r\n",
        "import pandas as pd\r\n",
        "from sklearn.ensemble import RandomForestClassifier\r\n",
        "from sklearn.feature_selection import RFECV\r\n",
        "from sklearn.model_selection import GridSearchCV\r\n",
        "from sklearn.neighbors import KNeighborsClassifier\r\n",
        "from sklearn.linear_model import LogisticRegression"
      ],
      "execution_count": 1,
      "outputs": []
    },
    {
      "cell_type": "code",
      "metadata": {
        "id": "zVzWNgJ1bFcY"
      },
      "source": [
        "train = pd.read_csv('train.csv')\r\n",
        "holdout = pd.read_csv('test.csv')"
      ],
      "execution_count": 2,
      "outputs": []
    },
    {
      "cell_type": "code",
      "metadata": {
        "colab": {
          "base_uri": "https://localhost:8080/",
          "height": 221
        },
        "id": "GG-O55r6bJMD",
        "outputId": "42262350-08ff-4656-ac60-217a0a6db253"
      },
      "source": [
        "holdout.iloc[0:5]"
      ],
      "execution_count": 3,
      "outputs": [
        {
          "output_type": "execute_result",
          "data": {
            "text/html": [
              "<div>\n",
              "<style scoped>\n",
              "    .dataframe tbody tr th:only-of-type {\n",
              "        vertical-align: middle;\n",
              "    }\n",
              "\n",
              "    .dataframe tbody tr th {\n",
              "        vertical-align: top;\n",
              "    }\n",
              "\n",
              "    .dataframe thead th {\n",
              "        text-align: right;\n",
              "    }\n",
              "</style>\n",
              "<table border=\"1\" class=\"dataframe\">\n",
              "  <thead>\n",
              "    <tr style=\"text-align: right;\">\n",
              "      <th></th>\n",
              "      <th>PassengerId</th>\n",
              "      <th>Pclass</th>\n",
              "      <th>Name</th>\n",
              "      <th>Sex</th>\n",
              "      <th>Age</th>\n",
              "      <th>SibSp</th>\n",
              "      <th>Parch</th>\n",
              "      <th>Ticket</th>\n",
              "      <th>Fare</th>\n",
              "      <th>Cabin</th>\n",
              "      <th>Embarked</th>\n",
              "    </tr>\n",
              "  </thead>\n",
              "  <tbody>\n",
              "    <tr>\n",
              "      <th>0</th>\n",
              "      <td>892</td>\n",
              "      <td>3</td>\n",
              "      <td>Kelly, Mr. James</td>\n",
              "      <td>male</td>\n",
              "      <td>34.5</td>\n",
              "      <td>0</td>\n",
              "      <td>0</td>\n",
              "      <td>330911</td>\n",
              "      <td>7.8292</td>\n",
              "      <td>NaN</td>\n",
              "      <td>Q</td>\n",
              "    </tr>\n",
              "    <tr>\n",
              "      <th>1</th>\n",
              "      <td>893</td>\n",
              "      <td>3</td>\n",
              "      <td>Wilkes, Mrs. James (Ellen Needs)</td>\n",
              "      <td>female</td>\n",
              "      <td>47.0</td>\n",
              "      <td>1</td>\n",
              "      <td>0</td>\n",
              "      <td>363272</td>\n",
              "      <td>7.0000</td>\n",
              "      <td>NaN</td>\n",
              "      <td>S</td>\n",
              "    </tr>\n",
              "    <tr>\n",
              "      <th>2</th>\n",
              "      <td>894</td>\n",
              "      <td>2</td>\n",
              "      <td>Myles, Mr. Thomas Francis</td>\n",
              "      <td>male</td>\n",
              "      <td>62.0</td>\n",
              "      <td>0</td>\n",
              "      <td>0</td>\n",
              "      <td>240276</td>\n",
              "      <td>9.6875</td>\n",
              "      <td>NaN</td>\n",
              "      <td>Q</td>\n",
              "    </tr>\n",
              "    <tr>\n",
              "      <th>3</th>\n",
              "      <td>895</td>\n",
              "      <td>3</td>\n",
              "      <td>Wirz, Mr. Albert</td>\n",
              "      <td>male</td>\n",
              "      <td>27.0</td>\n",
              "      <td>0</td>\n",
              "      <td>0</td>\n",
              "      <td>315154</td>\n",
              "      <td>8.6625</td>\n",
              "      <td>NaN</td>\n",
              "      <td>S</td>\n",
              "    </tr>\n",
              "    <tr>\n",
              "      <th>4</th>\n",
              "      <td>896</td>\n",
              "      <td>3</td>\n",
              "      <td>Hirvonen, Mrs. Alexander (Helga E Lindqvist)</td>\n",
              "      <td>female</td>\n",
              "      <td>22.0</td>\n",
              "      <td>1</td>\n",
              "      <td>1</td>\n",
              "      <td>3101298</td>\n",
              "      <td>12.2875</td>\n",
              "      <td>NaN</td>\n",
              "      <td>S</td>\n",
              "    </tr>\n",
              "  </tbody>\n",
              "</table>\n",
              "</div>"
            ],
            "text/plain": [
              "   PassengerId  Pclass  ... Cabin Embarked\n",
              "0          892       3  ...   NaN        Q\n",
              "1          893       3  ...   NaN        S\n",
              "2          894       2  ...   NaN        Q\n",
              "3          895       3  ...   NaN        S\n",
              "4          896       3  ...   NaN        S\n",
              "\n",
              "[5 rows x 11 columns]"
            ]
          },
          "metadata": {
            "tags": []
          },
          "execution_count": 3
        }
      ]
    },
    {
      "cell_type": "markdown",
      "metadata": {
        "id": "-WpjSQjpbNW6"
      },
      "source": [
        "**Data Processing Functions**"
      ]
    },
    {
      "cell_type": "code",
      "metadata": {
        "id": "Yie5_yCfbP08"
      },
      "source": [
        "def process_missing(df):\r\n",
        "    \"\"\"Handle various missing values from the data set\r\n",
        "\r\n",
        "    Usage\r\n",
        "    ------\r\n",
        "\r\n",
        "    holdout = process_missing(holdout)\r\n",
        "    \"\"\"\r\n",
        "    df[\"Fare\"] = df[\"Fare\"].fillna(train[\"Fare\"].mean())\r\n",
        "    df[\"Embarked\"] = df[\"Embarked\"].fillna(\"S\")\r\n",
        "    return df\r\n",
        "\r\n",
        "def process_age(df):\r\n",
        "    \"\"\"Process the Age column into pre-defined 'bins' \r\n",
        "\r\n",
        "    Usage\r\n",
        "    ------\r\n",
        "\r\n",
        "    train = process_age(train)\r\n",
        "    \"\"\"\r\n",
        "    df[\"Age\"] = df[\"Age\"].fillna(-0.5)\r\n",
        "    cut_points = [-1,0,5,12,18,35,60,100]\r\n",
        "    label_names = [\"Missing\",\"Infant\",\"Child\",\"Teenager\",\"Young Adult\",\"Adult\",\"Senior\"]\r\n",
        "    df[\"Age_categories\"] = pd.cut(df[\"Age\"],cut_points,labels=label_names)\r\n",
        "    return df\r\n",
        "\r\n",
        "def process_fare(df):\r\n",
        "    \"\"\"Process the Fare column into pre-defined 'bins' \r\n",
        "\r\n",
        "    Usage\r\n",
        "    ------\r\n",
        "\r\n",
        "    train = process_fare(train)\r\n",
        "    \"\"\"\r\n",
        "    cut_points = [-1,12,50,100,1000]\r\n",
        "    label_names = [\"0-12\",\"12-50\",\"50-100\",\"100+\"]\r\n",
        "    df[\"Fare_categories\"] = pd.cut(df[\"Fare\"],cut_points,labels=label_names)\r\n",
        "    return df\r\n",
        "\r\n",
        "def process_cabin(df):\r\n",
        "    \"\"\"Process the Cabin column into pre-defined 'bins' \r\n",
        "\r\n",
        "    Usage\r\n",
        "    ------\r\n",
        "\r\n",
        "    train process_cabin(train)\r\n",
        "    \"\"\"\r\n",
        "    df[\"Cabin_type\"] = df[\"Cabin\"].str[0]\r\n",
        "    df[\"Cabin_type\"] = df[\"Cabin_type\"].fillna(\"Unknown\")\r\n",
        "    df = df.drop('Cabin',axis=1)\r\n",
        "    return df\r\n",
        "\r\n",
        "def process_titles(df):\r\n",
        "    \"\"\"Extract and categorize the title from the name column \r\n",
        "\r\n",
        "    Usage\r\n",
        "    ------\r\n",
        "\r\n",
        "    train = process_titles(train)\r\n",
        "    \"\"\"\r\n",
        "    titles = {\r\n",
        "        \"Mr\" :         \"Mr\",\r\n",
        "        \"Mme\":         \"Mrs\",\r\n",
        "        \"Ms\":          \"Mrs\",\r\n",
        "        \"Mrs\" :        \"Mrs\",\r\n",
        "        \"Master\" :     \"Master\",\r\n",
        "        \"Mlle\":        \"Miss\",\r\n",
        "        \"Miss\" :       \"Miss\",\r\n",
        "        \"Capt\":        \"Officer\",\r\n",
        "        \"Col\":         \"Officer\",\r\n",
        "        \"Major\":       \"Officer\",\r\n",
        "        \"Dr\":          \"Officer\",\r\n",
        "        \"Rev\":         \"Officer\",\r\n",
        "        \"Jonkheer\":    \"Royalty\",\r\n",
        "        \"Don\":         \"Royalty\",\r\n",
        "        \"Sir\" :        \"Royalty\",\r\n",
        "        \"Countess\":    \"Royalty\",\r\n",
        "        \"Dona\":        \"Royalty\",\r\n",
        "        \"Lady\" :       \"Royalty\"\r\n",
        "    }\r\n",
        "    extracted_titles = df[\"Name\"].str.extract(' ([A-Za-z]+)\\.',expand=False)\r\n",
        "    df[\"Title\"] = extracted_titles.map(titles)\r\n",
        "    return df\r\n",
        "\r\n",
        "def create_dummies(df,column_name):\r\n",
        "    \"\"\"Create Dummy Columns (One Hot Encoding) from a single Column\r\n",
        "\r\n",
        "    Usage\r\n",
        "    ------\r\n",
        "\r\n",
        "    train = create_dummies(train,\"Age\")\r\n",
        "    \"\"\"\r\n",
        "    dummies = pd.get_dummies(df[column_name],prefix=column_name)\r\n",
        "    df = pd.concat([df,dummies],axis=1)\r\n",
        "    return df"
      ],
      "execution_count": 4,
      "outputs": []
    },
    {
      "cell_type": "markdown",
      "metadata": {
        "id": "N0_fH4gTbZz8"
      },
      "source": [
        "**Engineer \"isalone\" feature**\r\n",
        "\r\n",
        "This will categorize passengers by whether they were accompanied by anyone else on board."
      ]
    },
    {
      "cell_type": "code",
      "metadata": {
        "id": "nE6RLO0TbcrR"
      },
      "source": [
        "def is_alone(df):\r\n",
        "    fam_size = df['SibSp'] + df['Parch']\r\n",
        "    df['isalone'] = fam_size.apply(lambda x: 0 if x > 0 else 1)\r\n",
        "    return df"
      ],
      "execution_count": 5,
      "outputs": []
    },
    {
      "cell_type": "markdown",
      "metadata": {
        "id": "FGZg4OXNbmzu"
      },
      "source": [
        "**Clean and Process DataFrame**\r\n",
        "\r\n",
        "Employ data processing functions above to clean and transform the DataFrame, creating dummy columns as necessary from categorical features."
      ]
    },
    {
      "cell_type": "code",
      "metadata": {
        "id": "anqDQHjKbpXl"
      },
      "source": [
        "def process_dataframe(df):\r\n",
        "    df = process_missing(df)\r\n",
        "    df = process_age(df)\r\n",
        "    df = process_fare(df)\r\n",
        "    df = process_titles(df)\r\n",
        "    df = process_cabin(df)\r\n",
        "    df = create_dummies(df, 'Age_categories')\r\n",
        "    df = create_dummies(df, 'Fare_categories')\r\n",
        "    df = create_dummies(df, 'Title')\r\n",
        "    df = create_dummies(df, 'Cabin_type')\r\n",
        "    df = create_dummies(df, 'Sex')\r\n",
        "    df = is_alone(df)\r\n",
        "    return df"
      ],
      "execution_count": 6,
      "outputs": []
    },
    {
      "cell_type": "markdown",
      "metadata": {
        "id": "YDRE8qgFbvi6"
      },
      "source": [
        "**Select Features**\r\n",
        "\r\n",
        "Select features for training that perform best in a Random Forest model."
      ]
    },
    {
      "cell_type": "code",
      "metadata": {
        "id": "Y9XI8dWSbyvJ"
      },
      "source": [
        "def select_features(df):\r\n",
        "    numerics = ['int16', 'int32', 'int64', 'float16', 'float32', 'float64']\r\n",
        "    df = df.select_dtypes(include=numerics)\r\n",
        "    df = df.dropna(axis=1)\r\n",
        "    drop_cols = ['PassengerId', 'Survived']\r\n",
        "    X_cols = [x for x in df.columns if x not in drop_cols]\r\n",
        "    all_X = df[X_cols]\r\n",
        "    all_y = df['Survived']\r\n",
        "    rf = RandomForestClassifier(random_state=1)\r\n",
        "    selector = RFECV(rf, cv=10)\r\n",
        "    selector.fit(all_X, all_y)\r\n",
        "    best_column_indices = selector.get_support(indices=True)\r\n",
        "    best_columns = [X_cols[x] for x in best_column_indices]\r\n",
        "    #print(best_columns)\r\n",
        "    return best_columns"
      ],
      "execution_count": 7,
      "outputs": []
    },
    {
      "cell_type": "markdown",
      "metadata": {
        "id": "c2MCSG98b5Jg"
      },
      "source": [
        "**Select and Tune Model**\r\n",
        "\r\n",
        "Tune Logistic Regression, KNN, and Random Forest models across a range of parameter values, printing the name of the best performing model and returning the tuned model itself."
      ]
    },
    {
      "cell_type": "code",
      "metadata": {
        "id": "zmSNDv27b8AC"
      },
      "source": [
        "def select_model(df, features, target):\r\n",
        "    all_X = df[features]\r\n",
        "    all_y = df[target]\r\n",
        "    \r\n",
        "    models = [\r\n",
        "        {\r\n",
        "            'name': 'LogisticRegression',\r\n",
        "            'estimator': LogisticRegression(),\r\n",
        "            'hyperparameters': \r\n",
        "                {\r\n",
        "                    \"solver\": [\"newton-cg\", \"lbfgs\", \"liblinear\"]\r\n",
        "                }\r\n",
        "        },\r\n",
        "        {\r\n",
        "            'name': 'KNeighborsClassifier',\r\n",
        "            'estimator': KNeighborsClassifier(),\r\n",
        "            'hyperparameters': \r\n",
        "                {\r\n",
        "                    \"n_neighbors\": range(1,20,2),\r\n",
        "                    \"weights\": [\"distance\", \"uniform\"],\r\n",
        "                    \"algorithm\": [\"ball_tree\", \"kd_tree\", \"brute\"],\r\n",
        "                    \"p\": [1,2]\r\n",
        "                }\r\n",
        "        },\r\n",
        "        {\r\n",
        "            'name': 'RandomForestClassifier',\r\n",
        "            'estimator': RandomForestClassifier(),\r\n",
        "            'hyperparameters': \r\n",
        "                {\r\n",
        "                    \"n_estimators\": [4, 6, 9],\r\n",
        "                    \"criterion\": [\"entropy\", \"gini\"],\r\n",
        "                    \"max_depth\": [2, 5, 10],\r\n",
        "                    \"max_features\": [\"log2\", \"sqrt\"],\r\n",
        "                    \"min_samples_leaf\": [1, 5, 8],\r\n",
        "                    \"min_samples_split\": [2, 3, 5]\r\n",
        "                }\r\n",
        "        }        \r\n",
        "    ]\r\n",
        "    \r\n",
        "    best_score = 0\r\n",
        "    best_model = None\r\n",
        "    best_model_name = None\r\n",
        "    \r\n",
        "    for m in models:\r\n",
        "        grid = GridSearchCV(m['estimator'], param_grid=m['hyperparameters'], cv=10)\r\n",
        "        grid.fit(all_X, all_y)\r\n",
        "        \r\n",
        "        score = grid.best_score_\r\n",
        "        params = grid.best_params_\r\n",
        "        \r\n",
        "        if score > best_score:\r\n",
        "            best_model = grid.best_estimator_\r\n",
        "            best_model_name = m['name']        \r\n",
        "        \r\n",
        "        print(\"{} - best score: {}\".format(m['name'], score))\r\n",
        "        print(\"{} - best params: {}\".format(m['name'], params))\r\n",
        "        \r\n",
        "    print(\"Best overall model: {}\".format(best_model_name))\r\n",
        "        \r\n",
        "    return best_model"
      ],
      "execution_count": 8,
      "outputs": []
    },
    {
      "cell_type": "markdown",
      "metadata": {
        "id": "zIWJuN2WcOmo"
      },
      "source": [
        "**Put it All Together!**"
      ]
    },
    {
      "cell_type": "code",
      "metadata": {
        "id": "D-JpBXOjcQb6"
      },
      "source": [
        "train = process_dataframe(train)\r\n",
        "holdout = process_dataframe(holdout)"
      ],
      "execution_count": 10,
      "outputs": []
    },
    {
      "cell_type": "code",
      "metadata": {
        "colab": {
          "base_uri": "https://localhost:8080/"
        },
        "id": "50UXy89hcUbq",
        "outputId": "3b21fe62-fa4d-440f-aa5e-a62166378521"
      },
      "source": [
        "best_columns = select_features(train)\r\n",
        "best_model = select_model(train, best_columns, 'Survived')"
      ],
      "execution_count": 11,
      "outputs": [
        {
          "output_type": "stream",
          "text": [
            "LogisticRegression - best score: 0.7206242197253434\n",
            "LogisticRegression - best params: {'solver': 'newton-cg'}\n",
            "KNeighborsClassifier - best score: 0.6981897627965045\n",
            "KNeighborsClassifier - best params: {'algorithm': 'brute', 'n_neighbors': 17, 'p': 1, 'weights': 'distance'}\n",
            "RandomForestClassifier - best score: 0.7408489388264671\n",
            "RandomForestClassifier - best params: {'criterion': 'gini', 'max_depth': 5, 'max_features': 'sqrt', 'min_samples_leaf': 5, 'min_samples_split': 3, 'n_estimators': 9}\n",
            "Best overall model: RandomForestClassifier\n"
          ],
          "name": "stdout"
        }
      ]
    }
  ]
}